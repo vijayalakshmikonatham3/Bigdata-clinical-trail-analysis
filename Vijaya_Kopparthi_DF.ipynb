{
 "cells": [
  {
   "cell_type": "code",
   "execution_count": 0,
   "metadata": {
    "application/vnd.databricks.v1+cell": {
     "cellMetadata": {
      "byteLimit": 2048000,
      "rowLimit": 10000
     },
     "inputWidgets": {},
     "nuid": "32641dd7-7c6f-4598-a85e-a58f5cd76230",
     "showTitle": false,
     "title": ""
    }
   },
   "outputs": [
    {
     "output_type": "execute_result",
     "data": {
      "text/plain": [
       "[FileInfo(path='dbfs:/FileStore/tables/Occupancy_Detection_Data.csv', name='Occupancy_Detection_Data.csv', size=50968, modificationTime=1709127367000),\n",
       " FileInfo(path='dbfs:/FileStore/tables/account-models/', name='account-models/', size=0, modificationTime=0),\n",
       " FileInfo(path='dbfs:/FileStore/tables/accounts/', name='accounts/', size=0, modificationTime=0),\n",
       " FileInfo(path='dbfs:/FileStore/tables/accounts.zip', name='accounts.zip', size=5297592, modificationTime=1706713008000),\n",
       " FileInfo(path='dbfs:/FileStore/tables/activations/', name='activations/', size=0, modificationTime=0),\n",
       " FileInfo(path='dbfs:/FileStore/tables/activations.zip', name='activations.zip', size=8411369, modificationTime=1706709062000),\n",
       " FileInfo(path='dbfs:/FileStore/tables/clinicaltrial_2020.csv/', name='clinicaltrial_2020.csv/', size=0, modificationTime=0),\n",
       " FileInfo(path='dbfs:/FileStore/tables/clinicaltrial_2020.zip', name='clinicaltrial_2020.zip', size=10599182, modificationTime=1713448318000),\n",
       " FileInfo(path='dbfs:/FileStore/tables/clinicaltrial_2021.csv/', name='clinicaltrial_2021.csv/', size=0, modificationTime=0),\n",
       " FileInfo(path='dbfs:/FileStore/tables/clinicaltrial_2021.zip', name='clinicaltrial_2021.zip', size=11508457, modificationTime=1713448255000),\n",
       " FileInfo(path='dbfs:/FileStore/tables/clinicaltrial_2023/', name='clinicaltrial_2023/', size=0, modificationTime=0),\n",
       " FileInfo(path='dbfs:/FileStore/tables/clinicaltrial_2023.zip', name='clinicaltrial_2023.zip', size=57166668, modificationTime=1714476695000),\n",
       " FileInfo(path='dbfs:/FileStore/tables/flood.zip', name='flood.zip', size=52053, modificationTime=1707919987000),\n",
       " FileInfo(path='dbfs:/FileStore/tables/iotstream.zip', name='iotstream.zip', size=43891, modificationTime=1708522683000),\n",
       " FileInfo(path='dbfs:/FileStore/tables/logs/', name='logs/', size=0, modificationTime=0),\n",
       " FileInfo(path='dbfs:/FileStore/tables/logs.zip', name='logs.zip', size=18168065, modificationTime=1706713034000),\n",
       " FileInfo(path='dbfs:/FileStore/tables/movies.csv', name='movies.csv', size=494431, modificationTime=1709731314000),\n",
       " FileInfo(path='dbfs:/FileStore/tables/myratings.csv', name='myratings.csv', size=10683, modificationTime=1709732549000),\n",
       " FileInfo(path='dbfs:/FileStore/tables/myratings_1_-1.csv', name='myratings_1_-1.csv', size=10683, modificationTime=1709732372000),\n",
       " FileInfo(path='dbfs:/FileStore/tables/myratings_1_-2.csv', name='myratings_1_-2.csv', size=10683, modificationTime=1709732460000),\n",
       " FileInfo(path='dbfs:/FileStore/tables/myratings_1_.csv', name='myratings_1_.csv', size=10683, modificationTime=1709731314000),\n",
       " FileInfo(path='dbfs:/FileStore/tables/pharma.csv/', name='pharma.csv/', size=0, modificationTime=0),\n",
       " FileInfo(path='dbfs:/FileStore/tables/pharma.zip', name='pharma.zip', size=109982, modificationTime=1714476707000),\n",
       " FileInfo(path='dbfs:/FileStore/tables/ratings.csv', name='ratings.csv', size=2483723, modificationTime=1709731314000),\n",
       " FileInfo(path='dbfs:/FileStore/tables/steam_200k.csv', name='steam_200k.csv', size=8059447, modificationTime=1713544134000),\n",
       " FileInfo(path='dbfs:/FileStore/tables/test-1.json', name='test-1.json', size=17958, modificationTime=1706105406000),\n",
       " FileInfo(path='dbfs:/FileStore/tables/test-2.json', name='test-2.json', size=17958, modificationTime=1706105642000),\n",
       " FileInfo(path='dbfs:/FileStore/tables/test.json', name='test.json', size=17958, modificationTime=1706102959000),\n",
       " FileInfo(path='dbfs:/FileStore/tables/webpage/', name='webpage/', size=0, modificationTime=0),\n",
       " FileInfo(path='dbfs:/FileStore/tables/webpage.zip', name='webpage.zip', size=1582, modificationTime=1707312161000)]"
      ]
     },
     "execution_count": 67,
     "metadata": {},
     "output_type": "execute_result"
    }
   ],
   "source": [
    "dbutils.fs.ls(\"/FileStore/tables/\")"
   ]
  },
  {
   "cell_type": "code",
   "execution_count": 0,
   "metadata": {
    "application/vnd.databricks.v1+cell": {
     "cellMetadata": {
      "byteLimit": 2048000,
      "rowLimit": 10000
     },
     "inputWidgets": {},
     "nuid": "aa08d7ee-9f29-415e-a6d5-eb6aee636115",
     "showTitle": false,
     "title": ""
    }
   },
   "outputs": [
    {
     "output_type": "execute_result",
     "data": {
      "text/plain": [
       "True"
      ]
     },
     "execution_count": 68,
     "metadata": {},
     "output_type": "execute_result"
    }
   ],
   "source": [
    "dbutils.fs.cp(\"/FileStore/tables/clinicaltrial_2023.zip\", \"file:/tmp\")"
   ]
  },
  {
   "cell_type": "code",
   "execution_count": 0,
   "metadata": {
    "application/vnd.databricks.v1+cell": {
     "cellMetadata": {
      "byteLimit": 2048000,
      "rowLimit": 10000
     },
     "inputWidgets": {},
     "nuid": "e4167c9b-3b9a-4454-b05b-6be31bb7aabb",
     "showTitle": false,
     "title": ""
    }
   },
   "outputs": [
    {
     "output_type": "stream",
     "name": "stdout",
     "output_type": "stream",
     "text": [
      "Rserv\nRtmpVk99kV\nchauffeur-daemon-params\nchauffeur-daemon.pid\nchauffeur-env.sh\nclinicaltrial_2023.zip\ncustom-spark.conf\ndriver-daemon-params\ndriver-daemon.pid\ndriver-env.sh\nhsperfdata_root\npharma.zip\npython_lsp_logs\nsystemd-private-440b16e42b624966b948e0ac37fab276-systemd-logind.service-cVWGXV\nsystemd-private-440b16e42b624966b948e0ac37fab276-systemd-resolved.service-r0a4DZ\ntmp.fhAp1C988J\n"
     ]
    }
   ],
   "source": [
    "%sh\n",
    "ls /tmp/"
   ]
  },
  {
   "cell_type": "code",
   "execution_count": 0,
   "metadata": {
    "application/vnd.databricks.v1+cell": {
     "cellMetadata": {
      "byteLimit": 2048000,
      "rowLimit": 10000
     },
     "inputWidgets": {},
     "nuid": "34ed319f-1894-4119-bd08-8d6f0c3df1fe",
     "showTitle": false,
     "title": ""
    }
   },
   "outputs": [
    {
     "output_type": "stream",
     "name": "stdout",
     "output_type": "stream",
     "text": [
      "Archive:  /tmp/clinicaltrial_2023.zip\n  inflating: /tmp/clinicaltrial_2023.csv  \n"
     ]
    }
   ],
   "source": [
    "%sh\n",
    "unzip -d /tmp/ /tmp/clinicaltrial_2023.zip"
   ]
  },
  {
   "cell_type": "code",
   "execution_count": 0,
   "metadata": {
    "application/vnd.databricks.v1+cell": {
     "cellMetadata": {
      "byteLimit": 2048000,
      "rowLimit": 10000
     },
     "inputWidgets": {},
     "nuid": "4ecacc74-7027-4aa9-b47a-50b8d60860f8",
     "showTitle": false,
     "title": ""
    }
   },
   "outputs": [
    {
     "output_type": "stream",
     "name": "stdout",
     "output_type": "stream",
     "text": [
      "/tmp/clinicaltrial_2023.csv\n"
     ]
    }
   ],
   "source": [
    "%sh\n",
    "ls /tmp/clinicaltrial_2023.csv "
   ]
  },
  {
   "cell_type": "code",
   "execution_count": 0,
   "metadata": {
    "application/vnd.databricks.v1+cell": {
     "cellMetadata": {
      "byteLimit": 2048000,
      "rowLimit": 10000
     },
     "inputWidgets": {},
     "nuid": "21585340-4164-410d-8bb8-692146d8bced",
     "showTitle": false,
     "title": ""
    }
   },
   "outputs": [
    {
     "output_type": "execute_result",
     "data": {
      "text/plain": [
       "True"
      ]
     },
     "execution_count": 72,
     "metadata": {},
     "output_type": "execute_result"
    }
   ],
   "source": [
    "dbutils.fs.mkdirs(\"FileStore/tables/clinicaltrial_2023.csv\")"
   ]
  },
  {
   "cell_type": "code",
   "execution_count": 0,
   "metadata": {
    "application/vnd.databricks.v1+cell": {
     "cellMetadata": {
      "byteLimit": 2048000,
      "rowLimit": 10000
     },
     "inputWidgets": {},
     "nuid": "f087c083-5469-445c-854a-33364b8514b4",
     "showTitle": false,
     "title": ""
    }
   },
   "outputs": [
    {
     "output_type": "execute_result",
     "data": {
      "text/plain": [
       "True"
      ]
     },
     "execution_count": 73,
     "metadata": {},
     "output_type": "execute_result"
    }
   ],
   "source": [
    "dbutils.fs.mv(\"file:/tmp/clinicaltrial_2023.csv\", \"/FileStore/tables/clinicaltrial_2023.csv\", True)"
   ]
  },
  {
   "cell_type": "code",
   "execution_count": 0,
   "metadata": {
    "application/vnd.databricks.v1+cell": {
     "cellMetadata": {
      "byteLimit": 2048000,
      "rowLimit": 10000
     },
     "inputWidgets": {},
     "nuid": "87b823cd-e6d6-4001-af2c-d0e2c02b7b12",
     "showTitle": false,
     "title": ""
    }
   },
   "outputs": [
    {
     "output_type": "execute_result",
     "data": {
      "text/plain": [
       "[FileInfo(path='dbfs:/FileStore/tables/clinicaltrial_2023.csv/clinicaltrial_2023.csv', name='clinicaltrial_2023.csv', size=292436366, modificationTime=1714476778000)]"
      ]
     },
     "execution_count": 74,
     "metadata": {},
     "output_type": "execute_result"
    }
   ],
   "source": [
    "dbutils.fs.ls(\"/FileStore/tables/clinicaltrial_2023.csv\")"
   ]
  },
  {
   "cell_type": "code",
   "execution_count": 0,
   "metadata": {
    "application/vnd.databricks.v1+cell": {
     "cellMetadata": {
      "byteLimit": 2048000,
      "rowLimit": 10000
     },
     "inputWidgets": {},
     "nuid": "01d6fd31-eab5-4ff1-8ce4-f9345c647cb3",
     "showTitle": false,
     "title": ""
    }
   },
   "outputs": [
    {
     "output_type": "execute_result",
     "data": {
      "text/plain": [
       "True"
      ]
     },
     "execution_count": 75,
     "metadata": {},
     "output_type": "execute_result"
    }
   ],
   "source": [
    "dbutils.fs.cp(\"/FileStore/tables/pharma.zip\", \"file:/tmp\")"
   ]
  },
  {
   "cell_type": "code",
   "execution_count": 0,
   "metadata": {
    "application/vnd.databricks.v1+cell": {
     "cellMetadata": {
      "byteLimit": 2048000,
      "rowLimit": 10000
     },
     "inputWidgets": {},
     "nuid": "febc7d5d-7ce3-49a3-b0e8-9471bd1ca06f",
     "showTitle": false,
     "title": ""
    }
   },
   "outputs": [
    {
     "output_type": "stream",
     "name": "stdout",
     "output_type": "stream",
     "text": [
      "Rserv\nRtmpVk99kV\nchauffeur-daemon-params\nchauffeur-daemon.pid\nchauffeur-env.sh\nclinicaltrial_2023.zip\ncustom-spark.conf\ndriver-daemon-params\ndriver-daemon.pid\ndriver-env.sh\nhsperfdata_root\npharma.zip\npython_lsp_logs\nsystemd-private-440b16e42b624966b948e0ac37fab276-systemd-logind.service-cVWGXV\nsystemd-private-440b16e42b624966b948e0ac37fab276-systemd-resolved.service-r0a4DZ\ntmp.fhAp1C988J\n"
     ]
    }
   ],
   "source": [
    "%sh\n",
    "ls /tmp/"
   ]
  },
  {
   "cell_type": "code",
   "execution_count": 0,
   "metadata": {
    "application/vnd.databricks.v1+cell": {
     "cellMetadata": {
      "byteLimit": 2048000,
      "rowLimit": 10000
     },
     "inputWidgets": {},
     "nuid": "91ec4c43-4846-4087-9e14-43486f54c8ea",
     "showTitle": false,
     "title": ""
    }
   },
   "outputs": [
    {
     "output_type": "stream",
     "name": "stdout",
     "output_type": "stream",
     "text": [
      "Archive:  /tmp/pharma.zip\n  inflating: /tmp/pharma.csv         \n"
     ]
    }
   ],
   "source": [
    "%sh\n",
    "unzip -d /tmp/ /tmp/pharma.zip"
   ]
  },
  {
   "cell_type": "code",
   "execution_count": 0,
   "metadata": {
    "application/vnd.databricks.v1+cell": {
     "cellMetadata": {
      "byteLimit": 2048000,
      "rowLimit": 10000
     },
     "inputWidgets": {},
     "nuid": "27afd9f1-9c0b-4e56-a404-96afb3fc8529",
     "showTitle": false,
     "title": ""
    }
   },
   "outputs": [
    {
     "output_type": "stream",
     "name": "stdout",
     "output_type": "stream",
     "text": [
      "/tmp/pharma.csv\n"
     ]
    }
   ],
   "source": [
    "%sh\n",
    "ls /tmp/pharma.csv "
   ]
  },
  {
   "cell_type": "code",
   "execution_count": 0,
   "metadata": {
    "application/vnd.databricks.v1+cell": {
     "cellMetadata": {
      "byteLimit": 2048000,
      "rowLimit": 10000
     },
     "inputWidgets": {},
     "nuid": "78c8ba7c-aec6-4740-a4f2-de986e5f7286",
     "showTitle": false,
     "title": ""
    }
   },
   "outputs": [
    {
     "output_type": "execute_result",
     "data": {
      "text/plain": [
       "True"
      ]
     },
     "execution_count": 79,
     "metadata": {},
     "output_type": "execute_result"
    }
   ],
   "source": [
    "dbutils.fs.mkdirs(\"FileStore/tables/pharma.csv\")"
   ]
  },
  {
   "cell_type": "code",
   "execution_count": 0,
   "metadata": {
    "application/vnd.databricks.v1+cell": {
     "cellMetadata": {
      "byteLimit": 2048000,
      "rowLimit": 10000
     },
     "inputWidgets": {},
     "nuid": "5af2ec9d-4684-48b0-9c0b-f2334cda4638",
     "showTitle": false,
     "title": ""
    }
   },
   "outputs": [
    {
     "output_type": "execute_result",
     "data": {
      "text/plain": [
       "True"
      ]
     },
     "execution_count": 80,
     "metadata": {},
     "output_type": "execute_result"
    }
   ],
   "source": [
    "dbutils.fs.mv(\"file:/tmp/pharma.csv\", \"/FileStore/tables/pharma.csv\", True)"
   ]
  },
  {
   "cell_type": "code",
   "execution_count": 0,
   "metadata": {
    "application/vnd.databricks.v1+cell": {
     "cellMetadata": {
      "byteLimit": 2048000,
      "rowLimit": 10000
     },
     "inputWidgets": {},
     "nuid": "8f354320-97fe-4dc4-8555-dc512467c590",
     "showTitle": false,
     "title": ""
    }
   },
   "outputs": [
    {
     "output_type": "execute_result",
     "data": {
      "text/plain": [
       "[FileInfo(path='dbfs:/FileStore/tables/pharma.csv/pharma.csv', name='pharma.csv', size=678999, modificationTime=1714476882000)]"
      ]
     },
     "execution_count": 81,
     "metadata": {},
     "output_type": "execute_result"
    }
   ],
   "source": [
    "dbutils.fs.ls(\"FileStore/tables/pharma.csv/\")"
   ]
  },
  {
   "cell_type": "markdown",
   "metadata": {
    "application/vnd.databricks.v1+cell": {
     "cellMetadata": {
      "byteLimit": 2048000,
      "rowLimit": 10000
     },
     "inputWidgets": {},
     "nuid": "60200683-afbf-46ab-8363-52ec5099e782",
     "showTitle": false,
     "title": ""
    }
   },
   "source": [
    "Task 1: Distinct Studies"
   ]
  },
  {
   "cell_type": "code",
   "execution_count": 0,
   "metadata": {
    "application/vnd.databricks.v1+cell": {
     "cellMetadata": {
      "byteLimit": 2048000,
      "rowLimit": 10000
     },
     "inputWidgets": {},
     "nuid": "98b87f05-d8a3-4f18-a8b2-c94c9fa26130",
     "showTitle": false,
     "title": ""
    }
   },
   "outputs": [],
   "source": [
    "from pyspark.sql import SparkSession\n",
    "from pyspark.sql.functions import col, to_date, countDistinct, desc\n",
    "\n",
    "spark = SparkSession.builder.appName(\"Clinical Trials Analysis\").getOrCreate()"
   ]
  },
  {
   "cell_type": "code",
   "execution_count": 0,
   "metadata": {
    "application/vnd.databricks.v1+cell": {
     "cellMetadata": {
      "byteLimit": 2048000,
      "rowLimit": 10000
     },
     "inputWidgets": {},
     "nuid": "dfe0e000-f6a5-492a-a294-4411a85e8b86",
     "showTitle": false,
     "title": ""
    }
   },
   "outputs": [],
   "source": [
    "clinicaltrial_2023_df = spark.read.option(\"header\", \"true\").csv(\"/FileStore/tables/clinicaltrial_2023.csv\")"
   ]
  },
  {
   "cell_type": "code",
   "execution_count": 0,
   "metadata": {
    "application/vnd.databricks.v1+cell": {
     "cellMetadata": {
      "byteLimit": 2048000,
      "rowLimit": 10000
     },
     "inputWidgets": {},
     "nuid": "d38a5be8-7382-4f6a-a74c-1594c5ff6972",
     "showTitle": false,
     "title": ""
    }
   },
   "outputs": [],
   "source": [
    "pharma_df = spark.read.option(\"header\", \"true\").csv(\"/FileStore/tables/pharma.csv\")"
   ]
  },
  {
   "cell_type": "code",
   "execution_count": 0,
   "metadata": {
    "application/vnd.databricks.v1+cell": {
     "cellMetadata": {
      "byteLimit": 2048000,
      "rowLimit": 10000
     },
     "inputWidgets": {},
     "nuid": "0fae0eeb-07a6-46ff-aa0d-6e721f03ab18",
     "showTitle": false,
     "title": ""
    }
   },
   "outputs": [],
   "source": [
    "clinicaltrial_2023_df.createOrReplaceTempView(\"clinicaltrial_2023\")\n",
    "pharma_df.createOrReplaceTempView(\"pharma\")"
   ]
  },
  {
   "cell_type": "code",
   "execution_count": 0,
   "metadata": {
    "application/vnd.databricks.v1+cell": {
     "cellMetadata": {
      "byteLimit": 2048000,
      "rowLimit": 10000
     },
     "inputWidgets": {},
     "nuid": "968ca520-f6b4-4825-874a-81193f5b80a4",
     "showTitle": false,
     "title": ""
    }
   },
   "outputs": [
    {
     "output_type": "stream",
     "name": "stdout",
     "output_type": "stream",
     "text": [
      "root\n |-- Id\\tStudy Title\\tAcronym\\tStatus\\tConditions\\tInterventions\\tSponsor\\tCollaborators\\tEnrollment\\tFunder Type\\tType\\tStudy Design\\tStart\\tCompletion: string (nullable = true)\n |-- _c1: string (nullable = true)\n |-- _c2: string (nullable = true)\n |-- _c3: string (nullable = true)\n |-- _c4: string (nullable = true)\n |-- _c5: string (nullable = true)\n |-- _c6: string (nullable = true)\n |-- _c7: string (nullable = true)\n |-- _c8: string (nullable = true)\n |-- _c9: string (nullable = true)\n |-- _c10: string (nullable = true)\n |-- _c11: string (nullable = true)\n |-- _c12: string (nullable = true)\n |-- _c13: string (nullable = true)\n |-- _c14: string (nullable = true)\n |-- _c15: string (nullable = true)\n |-- _c16: string (nullable = true)\n |-- _c17: string (nullable = true)\n |-- _c18: string (nullable = true)\n |-- _c19: string (nullable = true)\n |-- _c20: string (nullable = true)\n |-- _c21: string (nullable = true)\n |-- _c22: string (nullable = true)\n |-- _c23: string (nullable = true)\n |-- _c24: string (nullable = true)\n |-- _c25: string (nullable = true)\n |-- _c26: string (nullable = true)\n |-- _c27: string (nullable = true)\n |-- _c28: string (nullable = true)\n |-- _c29: string (nullable = true)\n |-- _c30: string (nullable = true)\n |-- _c31: string (nullable = true)\n |-- _c32: string (nullable = true)\n |-- _c33: string (nullable = true)\n |-- _c34: string (nullable = true)\n |-- _c35: string (nullable = true)\n |-- _c36: string (nullable = true)\n |-- _c37: string (nullable = true)\n |-- _c38: string (nullable = true)\n |-- _c39: string (nullable = true)\n |-- _c40: string (nullable = true)\n |-- _c41: string (nullable = true)\n |-- _c42: string (nullable = true)\n |-- _c43: string (nullable = true)\n |-- _c44: string (nullable = true)\n |-- _c45: string (nullable = true)\n |-- _c46: string (nullable = true)\n |-- _c47: string (nullable = true)\n |-- _c48: string (nullable = true)\n |-- _c49: string (nullable = true)\n |-- _c50: string (nullable = true)\n |-- _c51: string (nullable = true)\n |-- _c52: string (nullable = true)\n |-- _c53: string (nullable = true)\n |-- _c54: string (nullable = true)\n |-- _c55: string (nullable = true)\n |-- _c56: string (nullable = true)\n |-- _c57: string (nullable = true)\n |-- _c58: string (nullable = true)\n |-- _c59: string (nullable = true)\n |-- _c60: string (nullable = true)\n |-- _c61: string (nullable = true)\n |-- _c62: string (nullable = true)\n |-- _c63: string (nullable = true)\n |-- _c64: string (nullable = true)\n |-- _c65: string (nullable = true)\n |-- _c66: string (nullable = true)\n |-- _c67: string (nullable = true)\n |-- _c68: string (nullable = true)\n |-- _c69: string (nullable = true)\n |-- _c70: string (nullable = true)\n |-- _c71: string (nullable = true)\n |-- _c72: string (nullable = true)\n |-- _c73: string (nullable = true)\n |-- _c74: string (nullable = true)\n |-- _c75: string (nullable = true)\n |-- _c76: string (nullable = true)\n |-- _c77: string (nullable = true)\n |-- _c78: string (nullable = true)\n |-- _c79: string (nullable = true)\n |-- _c80: string (nullable = true)\n |-- _c81: string (nullable = true)\n |-- _c82: string (nullable = true)\n |-- _c83: string (nullable = true)\n |-- _c84: string (nullable = true)\n |-- _c85: string (nullable = true)\n |-- _c86: string (nullable = true)\n |-- _c87: string (nullable = true)\n |-- _c88: string (nullable = true)\n |-- _c89: string (nullable = true)\n |-- _c90: string (nullable = true)\n |-- _c91: string (nullable = true)\n |-- _c92: string (nullable = true)\n |-- _c93: string (nullable = true)\n |-- _c94: string (nullable = true)\n |-- _c95: string (nullable = true)\n |-- _c96: string (nullable = true)\n |-- _c97: string (nullable = true)\n |-- _c98: string (nullable = true)\n |-- _c99: string (nullable = true)\n |-- _c100: string (nullable = true)\n |-- _c101: string (nullable = true)\n |-- _c102: string (nullable = true)\n |-- _c103: string (nullable = true)\n |-- _c104: string (nullable = true)\n |-- _c105: string (nullable = true)\n |-- _c106: string (nullable = true)\n |-- _c107: string (nullable = true)\n |-- _c108: string (nullable = true)\n |-- _c109: string (nullable = true)\n |-- _c110: string (nullable = true)\n |-- _c111: string (nullable = true)\n |-- _c112: string (nullable = true)\n |-- _c113: string (nullable = true)\n |-- _c114: string (nullable = true)\n |-- _c115: string (nullable = true)\n |-- _c116: string (nullable = true)\n |-- _c117: string (nullable = true)\n |-- _c118: string (nullable = true)\n |-- _c119: string (nullable = true)\n |-- _c120: string (nullable = true)\n |-- _c121: string (nullable = true)\n |-- _c122: string (nullable = true)\n |-- _c123: string (nullable = true)\n |-- _c124: string (nullable = true)\n |-- _c125: string (nullable = true)\n |-- _c126: string (nullable = true)\n |-- _c127: string (nullable = true)\n |-- _c128: string (nullable = true)\n |-- _c129: string (nullable = true)\n |-- _c130: string (nullable = true)\n |-- _c131: string (nullable = true)\n |-- _c132: string (nullable = true)\n |-- _c133: string (nullable = true)\n |-- _c134: string (nullable = true)\n |-- _c135: string (nullable = true)\n |-- _c136: string (nullable = true)\n |-- _c137: string (nullable = true)\n |-- _c138: string (nullable = true)\n |-- _c139: string (nullable = true)\n |-- _c140: string (nullable = true)\n |-- _c141: string (nullable = true)\n |-- _c142: string (nullable = true)\n |-- _c143: string (nullable = true)\n |-- _c144: string (nullable = true)\n |-- _c145: string (nullable = true)\n |-- _c146: string (nullable = true)\n |-- _c147: string (nullable = true)\n |-- _c148: string (nullable = true)\n |-- _c149: string (nullable = true)\n |-- _c150: string (nullable = true)\n |-- _c151: string (nullable = true)\n |-- _c152: string (nullable = true)\n |-- _c153: string (nullable = true)\n |-- _c154: string (nullable = true)\n |-- _c155: string (nullable = true)\n |-- _c156: string (nullable = true)\n |-- _c157: string (nullable = true)\n |-- _c158: string (nullable = true)\n |-- _c159: string (nullable = true)\n |-- _c160: string (nullable = true)\n |-- _c161: string (nullable = true)\n |-- _c162: string (nullable = true)\n |-- _c163: string (nullable = true)\n |-- _c164: string (nullable = true)\n |-- _c165: string (nullable = true)\n |-- _c166: string (nullable = true)\n |-- _c167: string (nullable = true)\n |-- _c168: string (nullable = true)\n |-- _c169: string (nullable = true)\n |-- _c170: string (nullable = true)\n |-- _c171: string (nullable = true)\n |-- _c172: string (nullable = true)\n |-- _c173: string (nullable = true)\n |-- _c174: string (nullable = true)\n |-- _c175: string (nullable = true)\n |-- _c176: string (nullable = true)\n |-- _c177: string (nullable = true)\n |-- _c178: string (nullable = true)\n |-- _c179: string (nullable = true)\n |-- _c180: string (nullable = true)\n |-- _c181: string (nullable = true)\n |-- _c182: string (nullable = true)\n |-- _c183: string (nullable = true)\n |-- _c184: string (nullable = true)\n |-- _c185: string (nullable = true)\n |-- _c186: string (nullable = true)\n |-- _c187: string (nullable = true)\n |-- _c188: string (nullable = true)\n |-- _c189: string (nullable = true)\n |-- _c190: string (nullable = true)\n |-- _c191: string (nullable = true)\n |-- _c192: string (nullable = true)\n |-- _c193: string (nullable = true)\n |-- _c194: string (nullable = true)\n |-- _c195: string (nullable = true)\n |-- _c196: string (nullable = true)\n |-- _c197: string (nullable = true)\n |-- _c198: string (nullable = true)\n |-- _c199: string (nullable = true)\n |-- _c200: string (nullable = true)\n |-- _c201: string (nullable = true)\n |-- _c202: string (nullable = true)\n |-- _c203: string (nullable = true)\n |-- _c204: string (nullable = true)\n |-- _c205: string (nullable = true)\n |-- _c206: string (nullable = true)\n |-- _c207: string (nullable = true)\n |-- _c208: string (nullable = true)\n |-- _c209: string (nullable = true)\n |-- _c210: string (nullable = true)\n\n"
     ]
    }
   ],
   "source": [
    "clinicaltrial_2023_df.printSchema()"
   ]
  },
  {
   "cell_type": "code",
   "execution_count": 0,
   "metadata": {
    "application/vnd.databricks.v1+cell": {
     "cellMetadata": {
      "byteLimit": 2048000,
      "rowLimit": 10000
     },
     "inputWidgets": {},
     "nuid": "bf726c6b-e06a-4a27-bb5c-1fdf9767b59d",
     "showTitle": false,
     "title": ""
    }
   },
   "outputs": [
    {
     "output_type": "stream",
     "name": "stdout",
     "output_type": "stream",
     "text": [
      "root\n |-- Id\\tStudy Title\\tAcronym\\tStatus\\tConditions\\tInterventions\\tSponsor\\tCollaborators\\tEnrollment\\tFunder Type\\tType\\tStudy Design\\tStart\\tCompletion: string (nullable = true)\n |-- _c1: string (nullable = true)\n |-- _c2: string (nullable = true)\n |-- _c3: string (nullable = true)\n |-- _c4: string (nullable = true)\n |-- _c5: string (nullable = true)\n |-- _c6: string (nullable = true)\n |-- _c7: string (nullable = true)\n |-- _c8: string (nullable = true)\n |-- _c9: string (nullable = true)\n |-- _c10: string (nullable = true)\n |-- _c11: string (nullable = true)\n |-- _c12: string (nullable = true)\n |-- _c13: string (nullable = true)\n |-- _c14: string (nullable = true)\n |-- _c15: string (nullable = true)\n |-- _c16: string (nullable = true)\n |-- _c17: string (nullable = true)\n |-- _c18: string (nullable = true)\n |-- _c19: string (nullable = true)\n |-- _c20: string (nullable = true)\n |-- _c21: string (nullable = true)\n |-- _c22: string (nullable = true)\n |-- _c23: string (nullable = true)\n |-- _c24: string (nullable = true)\n |-- _c25: string (nullable = true)\n |-- _c26: string (nullable = true)\n |-- _c27: string (nullable = true)\n |-- _c28: string (nullable = true)\n |-- _c29: string (nullable = true)\n |-- _c30: string (nullable = true)\n |-- _c31: string (nullable = true)\n |-- _c32: string (nullable = true)\n |-- _c33: string (nullable = true)\n |-- _c34: string (nullable = true)\n |-- _c35: string (nullable = true)\n |-- _c36: string (nullable = true)\n |-- _c37: string (nullable = true)\n |-- _c38: string (nullable = true)\n |-- _c39: string (nullable = true)\n |-- _c40: string (nullable = true)\n |-- _c41: string (nullable = true)\n |-- _c42: string (nullable = true)\n |-- _c43: string (nullable = true)\n |-- _c44: string (nullable = true)\n |-- _c45: string (nullable = true)\n |-- _c46: string (nullable = true)\n |-- _c47: string (nullable = true)\n |-- _c48: string (nullable = true)\n |-- _c49: string (nullable = true)\n |-- _c50: string (nullable = true)\n |-- _c51: string (nullable = true)\n |-- _c52: string (nullable = true)\n |-- _c53: string (nullable = true)\n |-- _c54: string (nullable = true)\n |-- _c55: string (nullable = true)\n |-- _c56: string (nullable = true)\n |-- _c57: string (nullable = true)\n |-- _c58: string (nullable = true)\n |-- _c59: string (nullable = true)\n |-- _c60: string (nullable = true)\n |-- _c61: string (nullable = true)\n |-- _c62: string (nullable = true)\n |-- _c63: string (nullable = true)\n |-- _c64: string (nullable = true)\n |-- _c65: string (nullable = true)\n |-- _c66: string (nullable = true)\n |-- _c67: string (nullable = true)\n |-- _c68: string (nullable = true)\n |-- _c69: string (nullable = true)\n |-- _c70: string (nullable = true)\n |-- _c71: string (nullable = true)\n |-- _c72: string (nullable = true)\n |-- _c73: string (nullable = true)\n |-- _c74: string (nullable = true)\n |-- _c75: string (nullable = true)\n |-- _c76: string (nullable = true)\n |-- _c77: string (nullable = true)\n |-- _c78: string (nullable = true)\n |-- _c79: string (nullable = true)\n |-- _c80: string (nullable = true)\n |-- _c81: string (nullable = true)\n |-- _c82: string (nullable = true)\n |-- _c83: string (nullable = true)\n |-- _c84: string (nullable = true)\n |-- _c85: string (nullable = true)\n |-- _c86: string (nullable = true)\n |-- _c87: string (nullable = true)\n |-- _c88: string (nullable = true)\n |-- _c89: string (nullable = true)\n |-- _c90: string (nullable = true)\n |-- _c91: string (nullable = true)\n |-- _c92: string (nullable = true)\n |-- _c93: string (nullable = true)\n |-- _c94: string (nullable = true)\n |-- _c95: string (nullable = true)\n |-- _c96: string (nullable = true)\n |-- _c97: string (nullable = true)\n |-- _c98: string (nullable = true)\n |-- _c99: string (nullable = true)\n |-- _c100: string (nullable = true)\n |-- _c101: string (nullable = true)\n |-- _c102: string (nullable = true)\n |-- _c103: string (nullable = true)\n |-- _c104: string (nullable = true)\n |-- _c105: string (nullable = true)\n |-- _c106: string (nullable = true)\n |-- _c107: string (nullable = true)\n |-- _c108: string (nullable = true)\n |-- _c109: string (nullable = true)\n |-- _c110: string (nullable = true)\n |-- _c111: string (nullable = true)\n |-- _c112: string (nullable = true)\n |-- _c113: string (nullable = true)\n |-- _c114: string (nullable = true)\n |-- _c115: string (nullable = true)\n |-- _c116: string (nullable = true)\n |-- _c117: string (nullable = true)\n |-- _c118: string (nullable = true)\n |-- _c119: string (nullable = true)\n |-- _c120: string (nullable = true)\n |-- _c121: string (nullable = true)\n |-- _c122: string (nullable = true)\n |-- _c123: string (nullable = true)\n |-- _c124: string (nullable = true)\n |-- _c125: string (nullable = true)\n |-- _c126: string (nullable = true)\n |-- _c127: string (nullable = true)\n |-- _c128: string (nullable = true)\n |-- _c129: string (nullable = true)\n |-- _c130: string (nullable = true)\n |-- _c131: string (nullable = true)\n |-- _c132: string (nullable = true)\n |-- _c133: string (nullable = true)\n |-- _c134: string (nullable = true)\n |-- _c135: string (nullable = true)\n |-- _c136: string (nullable = true)\n |-- _c137: string (nullable = true)\n |-- _c138: string (nullable = true)\n |-- _c139: string (nullable = true)\n |-- _c140: string (nullable = true)\n |-- _c141: string (nullable = true)\n |-- _c142: string (nullable = true)\n |-- _c143: string (nullable = true)\n |-- _c144: string (nullable = true)\n |-- _c145: string (nullable = true)\n |-- _c146: string (nullable = true)\n |-- _c147: string (nullable = true)\n |-- _c148: string (nullable = true)\n |-- _c149: string (nullable = true)\n |-- _c150: string (nullable = true)\n |-- _c151: string (nullable = true)\n |-- _c152: string (nullable = true)\n |-- _c153: string (nullable = true)\n |-- _c154: string (nullable = true)\n |-- _c155: string (nullable = true)\n |-- _c156: string (nullable = true)\n |-- _c157: string (nullable = true)\n |-- _c158: string (nullable = true)\n |-- _c159: string (nullable = true)\n |-- _c160: string (nullable = true)\n |-- _c161: string (nullable = true)\n |-- _c162: string (nullable = true)\n |-- _c163: string (nullable = true)\n |-- _c164: string (nullable = true)\n |-- _c165: string (nullable = true)\n |-- _c166: string (nullable = true)\n |-- _c167: string (nullable = true)\n |-- _c168: string (nullable = true)\n |-- _c169: string (nullable = true)\n |-- _c170: string (nullable = true)\n |-- _c171: string (nullable = true)\n |-- _c172: string (nullable = true)\n |-- _c173: string (nullable = true)\n |-- _c174: string (nullable = true)\n |-- _c175: string (nullable = true)\n |-- _c176: string (nullable = true)\n |-- _c177: string (nullable = true)\n |-- _c178: string (nullable = true)\n |-- _c179: string (nullable = true)\n |-- _c180: string (nullable = true)\n |-- _c181: string (nullable = true)\n |-- _c182: string (nullable = true)\n |-- _c183: string (nullable = true)\n |-- _c184: string (nullable = true)\n |-- _c185: string (nullable = true)\n |-- _c186: string (nullable = true)\n |-- _c187: string (nullable = true)\n |-- _c188: string (nullable = true)\n |-- _c189: string (nullable = true)\n |-- _c190: string (nullable = true)\n |-- _c191: string (nullable = true)\n |-- _c192: string (nullable = true)\n |-- _c193: string (nullable = true)\n |-- _c194: string (nullable = true)\n |-- _c195: string (nullable = true)\n |-- _c196: string (nullable = true)\n |-- _c197: string (nullable = true)\n |-- _c198: string (nullable = true)\n |-- _c199: string (nullable = true)\n |-- _c200: string (nullable = true)\n |-- _c201: string (nullable = true)\n |-- _c202: string (nullable = true)\n |-- _c203: string (nullable = true)\n |-- _c204: string (nullable = true)\n |-- _c205: string (nullable = true)\n |-- _c206: string (nullable = true)\n |-- _c207: string (nullable = true)\n |-- _c208: string (nullable = true)\n |-- _c209: string (nullable = true)\n |-- _c210: string (nullable = true)\n |-- Id: string (nullable = true)\n |-- Study Title: string (nullable = true)\n |-- Acronym: string (nullable = true)\n |-- Status: string (nullable = true)\n |-- Conditions: string (nullable = true)\n |-- Interventions: string (nullable = true)\n |-- Sponsor: string (nullable = true)\n |-- Collaborators: string (nullable = true)\n |-- Enrollment: string (nullable = true)\n |-- Funder Type: string (nullable = true)\n |-- Type: string (nullable = true)\n |-- Study Design: string (nullable = true)\n |-- Start: string (nullable = true)\n |-- Completion: string (nullable = true)\n\n"
     ]
    }
   ],
   "source": [
    "from pyspark.sql.functions import col, split\n",
    "\n",
    "# Defining the actual column name and replacing it with a proper name to avoid syntax issues\n",
    "column_name = \"`Id\\tStudy Title\\tAcronym\\tStatus\\tConditions\\tInterventions\\tSponsor\\tCollaborators\\tEnrollment\\tFunder Type\\tType\\tStudy Design\\tStart\\tCompletion`\"\n",
    "\n",
    "# Define the names of the new columns based on the expected structure\n",
    "column_names = [\n",
    "    \"Id\", \"Study Title\", \"Acronym\", \"Status\", \"Conditions\",\n",
    "    \"Interventions\", \"Sponsor\", \"Collaborators\", \"Enrollment\",\n",
    "    \"Funder Type\", \"Type\", \"Study Design\", \"Start\", \"Completion\"\n",
    "]\n",
    "\n",
    "# Split the single column into multiple columns based on the tab (\\t) separator\n",
    "for index, name in enumerate(column_names):\n",
    "    clinicaltrial_2023_df = clinicaltrial_2023_df.withColumn(name, split(col(column_name), \"\\t\").getItem(index))\n",
    "\n",
    "# Drop the original column that contained all the data\n",
    "clinicaltrial_2023_df = clinicaltrial_2023_df.drop(column_name)\n",
    "\n",
    "# Show the schema to confirm the columns have been created correctly\n",
    "clinicaltrial_2023_df.printSchema()\n"
   ]
  },
  {
   "cell_type": "code",
   "execution_count": 0,
   "metadata": {
    "application/vnd.databricks.v1+cell": {
     "cellMetadata": {
      "byteLimit": 2048000,
      "rowLimit": 10000
     },
     "inputWidgets": {},
     "nuid": "f04a481f-a112-46d7-8bbb-e4ebdba09773",
     "showTitle": false,
     "title": ""
    }
   },
   "outputs": [
    {
     "output_type": "stream",
     "name": "stdout",
     "output_type": "stream",
     "text": [
      "+----------------+\n|Distinct_Studies|\n+----------------+\n|          469788|\n+----------------+\n\n"
     ]
    }
   ],
   "source": [
    "from pyspark.sql.functions import countDistinct\n",
    "\n",
    "# Using DataFrame API to count distinct StudyID\n",
    "distinct_studies_df = clinicaltrial_2023_df.select(countDistinct(\"Study Title\").alias(\"Distinct_Studies\"))\n",
    "distinct_studies_df.show()"
   ]
  },
  {
   "cell_type": "markdown",
   "metadata": {
    "application/vnd.databricks.v1+cell": {
     "cellMetadata": {},
     "inputWidgets": {},
     "nuid": "0716d417-3461-4759-8685-a62ac390b314",
     "showTitle": false,
     "title": ""
    }
   },
   "source": [
    "Question 2"
   ]
  },
  {
   "cell_type": "code",
   "execution_count": 0,
   "metadata": {
    "application/vnd.databricks.v1+cell": {
     "cellMetadata": {
      "byteLimit": 2048000,
      "rowLimit": 10000
     },
     "inputWidgets": {},
     "nuid": "60a3e4e7-181d-4566-a0dd-ec5f1b85f182",
     "showTitle": false,
     "title": ""
    }
   },
   "outputs": [],
   "source": [
    "clinicaltrial_2023_df.createOrReplaceTempView(\"clinicaltrial_2023\")"
   ]
  },
  {
   "cell_type": "code",
   "execution_count": 0,
   "metadata": {
    "application/vnd.databricks.v1+cell": {
     "cellMetadata": {
      "byteLimit": 2048000,
      "rowLimit": 10000
     },
     "inputWidgets": {},
     "nuid": "73cc547a-069d-41aa-913c-fc5d08468083",
     "showTitle": false,
     "title": ""
    }
   },
   "outputs": [
    {
     "output_type": "stream",
     "name": "stdout",
     "output_type": "stream",
     "text": [
      "+---------------+---------+\n|           Type|Frequency|\n+---------------+---------+\n| INTERVENTIONAL|   230984|\n|           NULL|   180459|\n|  OBSERVATIONAL|    71499|\n|               |      889|\n|EXPANDED_ACCESS|      559|\n+---------------+---------+\n\n"
     ]
    }
   ],
   "source": [
    "study_types_df = clinicaltrial_2023_df.groupBy(\"Type\").count().withColumnRenamed(\"count\", \"Frequency\").orderBy(desc(\"Frequency\"))\n",
    "study_types_df.show()"
   ]
  },
  {
   "cell_type": "markdown",
   "metadata": {
    "application/vnd.databricks.v1+cell": {
     "cellMetadata": {},
     "inputWidgets": {},
     "nuid": "c29d27d2-8c18-4cff-be76-0713d853b8b2",
     "showTitle": false,
     "title": ""
    }
   },
   "source": [
    "Question 3"
   ]
  },
  {
   "cell_type": "code",
   "execution_count": 0,
   "metadata": {
    "application/vnd.databricks.v1+cell": {
     "cellMetadata": {
      "byteLimit": 2048000,
      "rowLimit": 10000
     },
     "inputWidgets": {},
     "nuid": "b1d89534-43e3-482c-a434-23d1c870cd1e",
     "showTitle": false,
     "title": ""
    }
   },
   "outputs": [
    {
     "output_type": "stream",
     "name": "stdout",
     "output_type": "stream",
     "text": [
      "+-----------------+---------+\n|       Conditions|Frequency|\n+-----------------+---------+\n|             NULL|    41024|\n|          Healthy|     6665|\n|    Breast Cancer|     4138|\n|Diabetes Mellitus|     3333|\n|             Pain|     2562|\n+-----------------+---------+\n\n"
     ]
    }
   ],
   "source": [
    "from pyspark.sql.functions import desc\n",
    "\n",
    "top_conditions_df = clinicaltrial_2023_df.groupBy(\"Conditions\").count().withColumnRenamed(\"count\", \"Frequency\").orderBy(desc(\"Frequency\")).limit(5)\n",
    "top_conditions_df.show()\n"
   ]
  },
  {
   "cell_type": "markdown",
   "metadata": {
    "application/vnd.databricks.v1+cell": {
     "cellMetadata": {},
     "inputWidgets": {},
     "nuid": "bdda87fc-7d37-4278-b328-bf25427245c0",
     "showTitle": false,
     "title": ""
    }
   },
   "source": [
    "Question 4"
   ]
  },
  {
   "cell_type": "code",
   "execution_count": 0,
   "metadata": {
    "application/vnd.databricks.v1+cell": {
     "cellMetadata": {
      "byteLimit": 2048000,
      "rowLimit": 10000
     },
     "inputWidgets": {},
     "nuid": "37aa6866-c6f4-48c9-8de8-ad6caaa92de3",
     "showTitle": false,
     "title": ""
    }
   },
   "outputs": [
    {
     "output_type": "stream",
     "name": "stdout",
     "output_type": "stream",
     "text": [
      "+--------------------+------+\n|             Sponsor|Trials|\n+--------------------+------+\n|                NULL| 95209|\n| University Hospital|  8363|\n|University of Cal...|  4100|\n|   Assiut University|  2913|\n|    Cairo University|  2570|\n|Assistance Publiq...|  2539|\n|         Mayo Clinic|  2328|\n|National Cancer I...|  2325|\n|M.D. Anderson Can...|  2181|\n|Massachusetts Gen...|  1979|\n+--------------------+------+\n\n"
     ]
    }
   ],
   "source": [
    "pharma_companies = pharma_df.select(\"Parent_Company\").distinct()\n",
    "top_sponsors_df = clinicaltrial_2023_df.join(pharma_companies, clinicaltrial_2023_df.Sponsor == pharma_companies.Parent_Company, \"left_anti\").groupBy(\"Sponsor\").count().withColumnRenamed(\"count\", \"Trials\").orderBy(desc(\"Trials\")).limit(10)\n",
    "top_sponsors_df.show()\n"
   ]
  },
  {
   "cell_type": "markdown",
   "metadata": {
    "application/vnd.databricks.v1+cell": {
     "cellMetadata": {},
     "inputWidgets": {},
     "nuid": "f76e6ba5-905e-4f25-b1a5-da13ddf25ce1",
     "showTitle": false,
     "title": ""
    }
   },
   "source": [
    "Question 5"
   ]
  },
  {
   "cell_type": "code",
   "execution_count": 0,
   "metadata": {
    "application/vnd.databricks.v1+cell": {
     "cellMetadata": {
      "byteLimit": 2048000,
      "rowLimit": 10000
     },
     "inputWidgets": {},
     "nuid": "24fc4b66-d115-433b-af93-b50899ec2cdf",
     "showTitle": false,
     "title": ""
    }
   },
   "outputs": [
    {
     "output_type": "stream",
     "name": "stdout",
     "output_type": "stream",
     "text": [
      "+----------------+---------+\n|CompletedStudies|    Month|\n+----------------+---------+\n|            1294|  January|\n|            1046| February|\n|            1471|    March|\n|            1170|    April|\n|            1287|      May|\n|            1789|     June|\n|            1375|     July|\n|            1346|   August|\n|            1432|September|\n|            1313|  October|\n|            1150| November|\n|            4666| December|\n+----------------+---------+\n\n"
     ]
    }
   ],
   "source": [
    "from pyspark.sql.functions import col, substring, date_format, to_date\n",
    "\n",
    "# Aggregating data using DataFrame operations\n",
    "completed_studies_df = clinicaltrial_2023_df \\\n",
    "    .filter(col(\"Completion\").startswith(\"2023\")) \\\n",
    "    .groupBy(substring(col(\"Completion\"), 1, 7).alias(\"MonthNumeric\")) \\\n",
    "    .count() \\\n",
    "    .withColumnRenamed(\"count\", \"CompletedStudies\") \\\n",
    "    .withColumn(\"Month\", date_format(to_date(col(\"MonthNumeric\"), \"yyyy-MM\"), \"MMMM\")) \\\n",
    "    .orderBy(\"MonthNumeric\") \\\n",
    "    .drop(\"MonthNumeric\")\n",
    "\n",
    "completed_studies_df.show()\n"
   ]
  },
  {
   "cell_type": "code",
   "execution_count": 0,
   "metadata": {
    "application/vnd.databricks.v1+cell": {
     "cellMetadata": {
      "byteLimit": 2048000,
      "rowLimit": 10000
     },
     "inputWidgets": {},
     "nuid": "84ca0ba0-fd2d-487f-b81d-c9433e3b2551",
     "showTitle": false,
     "title": ""
    }
   },
   "outputs": [],
   "source": [
    "completed_studies_df_pd = completed_studies_df.toPandas()\n"
   ]
  },
  {
   "cell_type": "code",
   "execution_count": 0,
   "metadata": {
    "application/vnd.databricks.v1+cell": {
     "cellMetadata": {
      "byteLimit": 2048000,
      "rowLimit": 10000
     },
     "inputWidgets": {},
     "nuid": "39b6fd14-8555-4eea-a758-3ecc1db31f96",
     "showTitle": false,
     "title": ""
    }
   },
   "outputs": [
    {
     "output_type": "stream",
     "name": "stdout",
     "output_type": "stream",
     "text": [
      "\u001B[43mNote: you may need to restart the kernel using dbutils.library.restartPython() to use updated packages.\u001B[0m\nRequirement already satisfied: matplotlib in /databricks/python3/lib/python3.11/site-packages (3.7.2)\nRequirement already satisfied: contourpy>=1.0.1 in /databricks/python3/lib/python3.11/site-packages (from matplotlib) (1.0.5)\nRequirement already satisfied: cycler>=0.10 in /databricks/python3/lib/python3.11/site-packages (from matplotlib) (0.11.0)\nRequirement already satisfied: fonttools>=4.22.0 in /databricks/python3/lib/python3.11/site-packages (from matplotlib) (4.25.0)\nRequirement already satisfied: kiwisolver>=1.0.1 in /databricks/python3/lib/python3.11/site-packages (from matplotlib) (1.4.4)\nRequirement already satisfied: numpy>=1.20 in /databricks/python3/lib/python3.11/site-packages (from matplotlib) (1.23.5)\nRequirement already satisfied: packaging>=20.0 in /databricks/python3/lib/python3.11/site-packages (from matplotlib) (23.2)\nRequirement already satisfied: pillow>=6.2.0 in /databricks/python3/lib/python3.11/site-packages (from matplotlib) (9.4.0)\nRequirement already satisfied: pyparsing<3.1,>=2.3.1 in /databricks/python3/lib/python3.11/site-packages (from matplotlib) (3.0.9)\nRequirement already satisfied: python-dateutil>=2.7 in /databricks/python3/lib/python3.11/site-packages (from matplotlib) (2.8.2)\nRequirement already satisfied: six>=1.5 in /usr/lib/python3/dist-packages (from python-dateutil>=2.7->matplotlib) (1.16.0)\n\u001B[43mNote: you may need to restart the kernel using dbutils.library.restartPython() to use updated packages.\u001B[0m\n"
     ]
    }
   ],
   "source": [
    "pip install matplotlib"
   ]
  },
  {
   "cell_type": "code",
   "execution_count": 0,
   "metadata": {
    "application/vnd.databricks.v1+cell": {
     "cellMetadata": {
      "byteLimit": 2048000,
      "rowLimit": 10000
     },
     "inputWidgets": {},
     "nuid": "84bac9c3-fd9f-4ce5-a08c-0d8052b3de20",
     "showTitle": false,
     "title": ""
    }
   },
   "outputs": [],
   "source": [
    "%matplotlib inline\n"
   ]
  },
  {
   "cell_type": "code",
   "execution_count": 0,
   "metadata": {
    "application/vnd.databricks.v1+cell": {
     "cellMetadata": {
      "byteLimit": 2048000,
      "rowLimit": 10000
     },
     "inputWidgets": {},
     "nuid": "8ba1b000-de75-4983-b83e-8d84cda9014a",
     "showTitle": false,
     "title": ""
    }
   },
   "outputs": [
    {
     "output_type": "display_data",
     "data": {
      "image/png": "[encoded data removed]",
      "text/plain": [
       "<Figure size 1000x600 with 1 Axes>"
      ]
     },
     "metadata": {},
     "output_type": "display_data"
    }
   ],
   "source": [
    "import matplotlib.pyplot as plt\n",
    "import pandas as pd\n",
    "\n",
    "# Assuming completed_studies_df_pd is your Pandas DataFrame obtained from the Spark DataFrame\n",
    "# Convert Spark DataFrame to Pandas DataFrame for visualization (only if not already converted)\n",
    "completed_studies_df_pd = completed_studies_df.toPandas()\n",
    "\n",
    "# Plotting the data\n",
    "plt.figure(figsize=(10, 6))\n",
    "plt.bar(completed_studies_df_pd['Month'], completed_studies_df_pd['CompletedStudies'], color='skyblue')\n",
    "plt.title('Number of Completed Studies per Month in 2023')\n",
    "plt.xlabel('Month')\n",
    "plt.ylabel('Completed Studies')\n",
    "plt.xticks(rotation=45)\n",
    "plt.grid(True)  # Optional: Adds a grid for better readability\n",
    "plt.show()\n"
   ]
  },
  {
   "cell_type": "markdown",
   "metadata": {
    "application/vnd.databricks.v1+cell": {
     "cellMetadata": {},
     "inputWidgets": {},
     "nuid": "d305ee4d-1f3f-4187-ac2f-1bccbf381755",
     "showTitle": false,
     "title": ""
    }
   },
   "source": [
    "Extra features to be implemented for extra marks\n",
    "\n"
   ]
  },
  {
   "cell_type": "markdown",
   "metadata": {
    "application/vnd.databricks.v1+cell": {
     "cellMetadata": {},
     "inputWidgets": {},
     "nuid": "eeeca98f-d0f8-407c-98ae-2c8e47833bf6",
     "showTitle": false,
     "title": ""
    }
   },
   "source": [
    "Visualisation"
   ]
  },
  {
   "cell_type": "code",
   "execution_count": 0,
   "metadata": {
    "application/vnd.databricks.v1+cell": {
     "cellMetadata": {
      "byteLimit": 2048000,
      "rowLimit": 10000
     },
     "inputWidgets": {},
     "nuid": "6dd47217-c575-465b-9167-28530214a429",
     "showTitle": false,
     "title": ""
    }
   },
   "outputs": [],
   "source": [
    "from pyspark.sql import SparkSession\n",
    "from pyspark.sql.functions import col, year\n",
    "import pandas as pd\n",
    "import matplotlib.pyplot as plt\n",
    "import seaborn as sns\n",
    "\n",
    "# Initialize Spark Session (usually not needed in Databricks as it's pre-configured)\n",
    "spark = SparkSession.builder.appName(\"ClinicalTrialsVisualization\").getOrCreate()\n"
   ]
  },
  {
   "cell_type": "markdown",
   "metadata": {
    "application/vnd.databricks.v1+cell": {
     "cellMetadata": {},
     "inputWidgets": {},
     "nuid": "8248bc41-a281-4004-b8b8-a4a11762fbf9",
     "showTitle": false,
     "title": ""
    }
   },
   "source": [
    "Distribution of studies by condition"
   ]
  },
  {
   "cell_type": "code",
   "execution_count": 0,
   "metadata": {
    "application/vnd.databricks.v1+cell": {
     "cellMetadata": {
      "byteLimit": 2048000,
      "rowLimit": 10000
     },
     "inputWidgets": {},
     "nuid": "8c3beb52-4cc4-426f-ae5f-5765893daf40",
     "showTitle": false,
     "title": ""
    }
   },
   "outputs": [
    {
     "output_type": "display_data",
     "data": {
      "image/png": "[encoded data removed]",
      "text/plain": [
       "<Figure size 640x480 with 1 Axes>"
      ]
     },
     "metadata": {},
     "output_type": "display_data"
    }
   ],
   "source": [
    "from pyspark.sql.functions import desc\n",
    "\n",
    "# Group by Conditions, count, and sort in descending order\n",
    "condition_counts = clinicaltrial_2023_df.groupby(\"Conditions\").count().orderBy(desc(\"count\"))\n",
    "\n",
    "# Collect top 10 conditions to the driver for visualization (assuming manageable size for visualization)\n",
    "condition_counts_pd = condition_counts.limit(10).toPandas()\n",
    "\n",
    "# Visualize using Seaborn\n",
    "import seaborn as sns\n",
    "import matplotlib.pyplot as plt\n",
    "\n",
    "sns.barplot(data=condition_counts_pd, x=\"count\", y=\"Conditions\", palette=\"colorblind\")\n",
    "plt.title('Top 10 Most Studied Conditions')\n",
    "plt.xlabel('Number of Studies')\n",
    "plt.ylabel('Conditions')\n",
    "plt.show()\n"
   ]
  },
  {
   "cell_type": "markdown",
   "metadata": {
    "application/vnd.databricks.v1+cell": {
     "cellMetadata": {},
     "inputWidgets": {},
     "nuid": "48632cd2-20c7-43ee-b3c1-7a11915928f9",
     "showTitle": false,
     "title": ""
    }
   },
   "source": [
    "Studies by Funder Type"
   ]
  },
  {
   "cell_type": "code",
   "execution_count": 0,
   "metadata": {
    "application/vnd.databricks.v1+cell": {
     "cellMetadata": {
      "byteLimit": 2048000,
      "rowLimit": 10000
     },
     "inputWidgets": {},
     "nuid": "ad36d9b0-8700-435b-b7f6-d40fd3272dcd",
     "showTitle": false,
     "title": ""
    }
   },
   "outputs": [
    {
     "output_type": "display_data",
     "data": {
      "image/png": "[encoded data removed]",
      "text/plain": [
       "<Figure size 640x480 with 1 Axes>"
      ]
     },
     "metadata": {},
     "output_type": "display_data"
    }
   ],
   "source": [
    "funder_type_counts = clinicaltrial_2023_df.groupby(\"Funder Type\").count().orderBy(desc(\"count\"))\n",
    "\n",
    "# Collect the data to Pandas for visualization\n",
    "funder_type_counts_pd = funder_type_counts.toPandas()\n",
    "\n",
    "# Plotting using Seaborn\n",
    "sns.barplot(data=funder_type_counts_pd, y=\"Funder Type\", x=\"count\", palette=\"coolwarm\")\n",
    "plt.title('Distribution of Studies by Funder Type')\n",
    "plt.xlabel('Number of Studies')\n",
    "plt.ylabel('Funder Type')\n",
    "plt.show()\n"
   ]
  },
  {
   "cell_type": "markdown",
   "metadata": {
    "application/vnd.databricks.v1+cell": {
     "cellMetadata": {
      "byteLimit": 2048000,
      "rowLimit": 10000
     },
     "inputWidgets": {},
     "nuid": "7d61730e-b7d5-40f6-bec1-d6b639815615",
     "showTitle": false,
     "title": ""
    }
   },
   "source": [
    "Timeline of study status"
   ]
  },
  {
   "cell_type": "code",
   "execution_count": 0,
   "metadata": {
    "application/vnd.databricks.v1+cell": {
     "cellMetadata": {
      "byteLimit": 2048000,
      "rowLimit": 10000
     },
     "inputWidgets": {},
     "nuid": "9ca4cc62-7c87-4971-90ff-e825a30ed110",
     "showTitle": false,
     "title": ""
    }
   },
   "outputs": [
    {
     "output_type": "display_data",
     "data": {
      "image/png": "[encoded data removed]",
      "text/plain": [
       "<Figure size 1000x500 with 1 Axes>"
      ]
     },
     "metadata": {},
     "output_type": "display_data"
    }
   ],
   "source": [
    "from pyspark.sql.functions import to_date, year\n",
    "\n",
    "# Ensure 'Start' is a date column and extract the year\n",
    "clinicaltrial_2023_df = clinicaltrial_2023_df.withColumn(\"Start\", to_date(\"Start\"))\n",
    "clinicaltrial_2023_df = clinicaltrial_2023_df.withColumn(\"Year\", year(\"Start\"))\n",
    "\n",
    "# Group by Year and Status, then pivot\n",
    "status_timeline = clinicaltrial_2023_df.groupby(\"Year\", \"Status\").count()\n",
    "status_timeline_pivot = status_timeline.groupBy(\"Year\").pivot(\"Status\").sum(\"count\").na.fill(0)\n",
    "\n",
    "# Collect and plot\n",
    "status_timeline_pd = status_timeline_pivot.orderBy(\"Year\").toPandas()\n",
    "status_timeline_pd.set_index(\"Year\").plot(kind='line', marker='o', figsize=(10, 5))\n",
    "plt.title('Timeline of Study Status')\n",
    "plt.xlabel('Year')\n",
    "plt.ylabel('Number of Studies')\n",
    "plt.grid(True)\n",
    "plt.show()\n"
   ]
  },
  {
   "cell_type": "markdown",
   "metadata": {
    "application/vnd.databricks.v1+cell": {
     "cellMetadata": {},
     "inputWidgets": {},
     "nuid": "4749123e-6607-4929-b901-64fde493b016",
     "showTitle": false,
     "title": ""
    }
   },
   "source": [
    "Implementing Spark functions"
   ]
  },
  {
   "cell_type": "markdown",
   "metadata": {
    "application/vnd.databricks.v1+cell": {
     "cellMetadata": {},
     "inputWidgets": {},
     "nuid": "2ecf8dd7-b744-441a-8bf5-d244f750bbf1",
     "showTitle": false,
     "title": ""
    }
   },
   "source": [
    "String functions"
   ]
  },
  {
   "cell_type": "code",
   "execution_count": 0,
   "metadata": {
    "application/vnd.databricks.v1+cell": {
     "cellMetadata": {
      "byteLimit": 2048000,
      "rowLimit": 10000
     },
     "inputWidgets": {},
     "nuid": "72865ef5-92fe-47bf-8f67-59e67b2d7512",
     "showTitle": false,
     "title": ""
    }
   },
   "outputs": [
    {
     "output_type": "stream",
     "name": "stdout",
     "output_type": "stream",
     "text": [
      "+--------------------+-----------+\n|         Study Title|Title_Short|\n+--------------------+-----------+\n|Effectiveness of ...| Effectiven|\n|Oral Ketone Monoe...| Oral Keton|\n|Impact of Tight G...| Impact of |\n|New Prognostic Pr...| New Progno|\n|InTake Care: Deve...| InTake Car|\n|Tailored Inhibito...| Tailored I|\n|Neuromodulation o...| Neuromodul|\n|Computerized Brie...| Computeriz|\n|Manitoba Pharmaci...| Manitoba P|\n|Molecular Testing...| Molecular |\n|A Pilot Study Exp...| A Pilot St|\n|Biology of Juveni...| Biology of|\n|Safety and Blood ...| Safety and|\n|Promoting Wellbei...| Promoting |\n|Reversal of the A...| Reversal o|\n|Neural Stem Cell ...| Neural Ste|\n|RCT of the Effect...| RCT of the|\n|Comparison Betwee...| Comparison|\n|Developing a Stan...| Developing|\n|Interleukin-2 and...| Interleuki|\n+--------------------+-----------+\nonly showing top 20 rows\n\n"
     ]
    }
   ],
   "source": [
    "from pyspark.sql.functions import substring\n",
    "\n",
    "# Extracting the first 10 characters from 'Study Title'\n",
    "clinicaltrial_2023_df = clinicaltrial_2023_df.withColumn(\"Title_Short\", substring(\"Study Title\", 1, 10))\n",
    "\n",
    "# Display the modified DataFrame\n",
    "clinicaltrial_2023_df.select(\"Study Title\", \"Title_Short\").show()\n"
   ]
  },
  {
   "cell_type": "markdown",
   "metadata": {
    "application/vnd.databricks.v1+cell": {
     "cellMetadata": {},
     "inputWidgets": {},
     "nuid": "688e6703-4996-4576-afb1-bf9666f2def8",
     "showTitle": false,
     "title": ""
    }
   },
   "source": [
    "ARRAY Functions"
   ]
  },
  {
   "cell_type": "code",
   "execution_count": 0,
   "metadata": {
    "application/vnd.databricks.v1+cell": {
     "cellMetadata": {
      "byteLimit": 2048000,
      "rowLimit": 10000
     },
     "inputWidgets": {},
     "nuid": "d32535d2-3c33-4ec4-9602-87d2592cbb03",
     "showTitle": false,
     "title": ""
    }
   },
   "outputs": [
    {
     "output_type": "stream",
     "name": "stdout",
     "output_type": "stream",
     "text": [
      "+------------------------------------------------------------------------------------------------+--------------------------------------------------------------------------------------------------+\n|Conditions                                                                                      |Conditions_Array                                                                                  |\n+------------------------------------------------------------------------------------------------+--------------------------------------------------------------------------------------------------+\n|Mental Health Issue (E.G.                                                                       |[Mental Health Issue (E.G.]                                                                       |\n|Cerebrovascular Function|Cognition                                                              |[Cerebrovascular Function|Cognition]                                                              |\n|Myocardial Infarct|Hyperglycemia                                                                |[Myocardial Infarct|Hyperglycemia]                                                                |\n|Decompensated Cirrhosis|Liver Transplantation                                                   |[Decompensated Cirrhosis|Liver Transplantation]                                                   |\n|NULL                                                                                            |NULL                                                                                              |\n|Smoking|Alcohol Drinking|Prescription Drug Abuse|Substance-Related Disorders|Oral Intake Reduced|[Smoking|Alcohol Drinking|Prescription Drug Abuse|Substance-Related Disorders|Oral Intake Reduced]|\n|Alcohol Dependence|PTSD                                                                         |[Alcohol Dependence|PTSD]                                                                         |\n|Alcohol; Harmful Use|Binge Drinking|Risk Behavior|HIV Infection                                 |[Alcohol, Harmful Use|Binge Drinking|Risk Behavior|HIV Infection]                                 |\n|Smoking Cessation                                                                               |[Smoking Cessation]                                                                               |\n|Glioma|Hematopoietic and Lymphoid Cell Neoplasm|Malignant Solid Neoplasm|Melanoma|Sarcoma       |[Glioma|Hematopoietic and Lymphoid Cell Neoplasm|Malignant Solid Neoplasm|Melanoma|Sarcoma]       |\n|Hyperhidrosis                                                                                   |[Hyperhidrosis]                                                                                   |\n|Juvenile Myoclonic Epilepsy                                                                     |[Juvenile Myoclonic Epilepsy]                                                                     |\n|HIV Infections                                                                                  |[HIV Infections]                                                                                  |\n|Wellbeing|Health Attitude|Quality of Life                                                       |[Wellbeing|Health Attitude|Quality of Life]                                                       |\n|Coronary Artery Disease                                                                         |[Coronary Artery Disease]                                                                         |\n|Progressive Multiple Sclerosis                                                                  |[Progressive Multiple Sclerosis]                                                                  |\n|Obstructive Sleep Apnea Syndrome                                                                |[Obstructive Sleep Apnea Syndrome]                                                                |\n|NULL                                                                                            |NULL                                                                                              |\n|Registered Nurses|Nursing Personnel|Motor Skills                                                |[Registered Nurses|Nursing Personnel|Motor Skills]                                                |\n|Kidney Cancer                                                                                   |[Kidney Cancer]                                                                                   |\n+------------------------------------------------------------------------------------------------+--------------------------------------------------------------------------------------------------+\nonly showing top 20 rows\n\n"
     ]
    }
   ],
   "source": [
    "from pyspark.sql.functions import split\n",
    "\n",
    "# Split the 'Conditions' column into an array of conditions\n",
    "clinicaltrial_2023_df = clinicaltrial_2023_df.withColumn(\"Conditions_Array\", split(col(\"Conditions\"), \"; \"))\n",
    "\n",
    "# Display the modified DataFrame\n",
    "clinicaltrial_2023_df.select(\"Conditions\", \"Conditions_Array\").show(truncate=False)\n"
   ]
  },
  {
   "cell_type": "markdown",
   "metadata": {
    "application/vnd.databricks.v1+cell": {
     "cellMetadata": {},
     "inputWidgets": {},
     "nuid": "0ec53c91-03d2-412e-babf-e704725cb6f5",
     "showTitle": false,
     "title": ""
    }
   },
   "source": [
    "Loading the Data of Clinicaltrial_2020 and clinicaltrial_2021"
   ]
  },
  {
   "cell_type": "code",
   "execution_count": 0,
   "metadata": {
    "application/vnd.databricks.v1+cell": {
     "cellMetadata": {
      "byteLimit": 2048000,
      "rowLimit": 10000
     },
     "inputWidgets": {},
     "nuid": "0eee0aca-c18e-472d-b2ec-86fd1b75fe6a",
     "showTitle": false,
     "title": ""
    }
   },
   "outputs": [
    {
     "output_type": "execute_result",
     "data": {
      "text/plain": [
       "[FileInfo(path='dbfs:/FileStore/tables/Occupancy_Detection_Data.csv', name='Occupancy_Detection_Data.csv', size=50968, modificationTime=1709127367000),\n",
       " FileInfo(path='dbfs:/FileStore/tables/account-models/', name='account-models/', size=0, modificationTime=0),\n",
       " FileInfo(path='dbfs:/FileStore/tables/accounts/', name='accounts/', size=0, modificationTime=0),\n",
       " FileInfo(path='dbfs:/FileStore/tables/accounts.zip', name='accounts.zip', size=5297592, modificationTime=1706713008000),\n",
       " FileInfo(path='dbfs:/FileStore/tables/activations/', name='activations/', size=0, modificationTime=0),\n",
       " FileInfo(path='dbfs:/FileStore/tables/activations.zip', name='activations.zip', size=8411369, modificationTime=1706709062000),\n",
       " FileInfo(path='dbfs:/FileStore/tables/clinicaltrial_2020.csv/', name='clinicaltrial_2020.csv/', size=0, modificationTime=0),\n",
       " FileInfo(path='dbfs:/FileStore/tables/clinicaltrial_2020.zip', name='clinicaltrial_2020.zip', size=10599182, modificationTime=1713448318000),\n",
       " FileInfo(path='dbfs:/FileStore/tables/clinicaltrial_2021-1.zip', name='clinicaltrial_2021-1.zip', size=22, modificationTime=1714593071000),\n",
       " FileInfo(path='dbfs:/FileStore/tables/clinicaltrial_2021.csv/', name='clinicaltrial_2021.csv/', size=0, modificationTime=0),\n",
       " FileInfo(path='dbfs:/FileStore/tables/clinicaltrial_2021.zip', name='clinicaltrial_2021.zip', size=11508457, modificationTime=1713448255000),\n",
       " FileInfo(path='dbfs:/FileStore/tables/clinicaltrial_2023/', name='clinicaltrial_2023/', size=0, modificationTime=0),\n",
       " FileInfo(path='dbfs:/FileStore/tables/clinicaltrial_2023-1.csv', name='clinicaltrial_2023-1.csv', size=235575010, modificationTime=1714477484000),\n",
       " FileInfo(path='dbfs:/FileStore/tables/clinicaltrial_2023-2.csv', name='clinicaltrial_2023-2.csv', size=235575010, modificationTime=1714502218000),\n",
       " FileInfo(path='dbfs:/FileStore/tables/clinicaltrial_2023.csv/', name='clinicaltrial_2023.csv/', size=0, modificationTime=0),\n",
       " FileInfo(path='dbfs:/FileStore/tables/clinicaltrial_2023.zip', name='clinicaltrial_2023.zip', size=57166668, modificationTime=1714476695000),\n",
       " FileInfo(path='dbfs:/FileStore/tables/flood.zip', name='flood.zip', size=52053, modificationTime=1707919987000),\n",
       " FileInfo(path='dbfs:/FileStore/tables/iotstream.zip', name='iotstream.zip', size=43891, modificationTime=1708522683000),\n",
       " FileInfo(path='dbfs:/FileStore/tables/logs/', name='logs/', size=0, modificationTime=0),\n",
       " FileInfo(path='dbfs:/FileStore/tables/logs.zip', name='logs.zip', size=18168065, modificationTime=1706713034000),\n",
       " FileInfo(path='dbfs:/FileStore/tables/movies.csv', name='movies.csv', size=494431, modificationTime=1709731314000),\n",
       " FileInfo(path='dbfs:/FileStore/tables/myratings.csv', name='myratings.csv', size=10683, modificationTime=1709732549000),\n",
       " FileInfo(path='dbfs:/FileStore/tables/myratings_1_-1.csv', name='myratings_1_-1.csv', size=10683, modificationTime=1709732372000),\n",
       " FileInfo(path='dbfs:/FileStore/tables/myratings_1_-2.csv', name='myratings_1_-2.csv', size=10683, modificationTime=1709732460000),\n",
       " FileInfo(path='dbfs:/FileStore/tables/myratings_1_.csv', name='myratings_1_.csv', size=10683, modificationTime=1709731314000),\n",
       " FileInfo(path='dbfs:/FileStore/tables/pharma-1.csv', name='pharma-1.csv', size=678999, modificationTime=1714477590000),\n",
       " FileInfo(path='dbfs:/FileStore/tables/pharma-2.csv', name='pharma-2.csv', size=678999, modificationTime=1714477755000),\n",
       " FileInfo(path='dbfs:/FileStore/tables/pharma.csv/', name='pharma.csv/', size=0, modificationTime=0),\n",
       " FileInfo(path='dbfs:/FileStore/tables/pharma.zip', name='pharma.zip', size=109982, modificationTime=1714476707000),\n",
       " FileInfo(path='dbfs:/FileStore/tables/ratings.csv', name='ratings.csv', size=2483723, modificationTime=1709731314000),\n",
       " FileInfo(path='dbfs:/FileStore/tables/steam_200k.csv', name='steam_200k.csv', size=8059447, modificationTime=1714560061000),\n",
       " FileInfo(path='dbfs:/FileStore/tables/test-1.json', name='test-1.json', size=17958, modificationTime=1706105406000),\n",
       " FileInfo(path='dbfs:/FileStore/tables/test-2.json', name='test-2.json', size=17958, modificationTime=1706105642000),\n",
       " FileInfo(path='dbfs:/FileStore/tables/test.json', name='test.json', size=17958, modificationTime=1706102959000),\n",
       " FileInfo(path='dbfs:/FileStore/tables/webpage/', name='webpage/', size=0, modificationTime=0),\n",
       " FileInfo(path='dbfs:/FileStore/tables/webpage.zip', name='webpage.zip', size=1582, modificationTime=1707312161000)]"
      ]
     },
     "execution_count": 23,
     "metadata": {},
     "output_type": "execute_result"
    }
   ],
   "source": [
    "dbutils.fs.ls(\"/FileStore/tables/\")"
   ]
  },
  {
   "cell_type": "code",
   "execution_count": 0,
   "metadata": {
    "application/vnd.databricks.v1+cell": {
     "cellMetadata": {
      "byteLimit": 2048000,
      "rowLimit": 10000
     },
     "inputWidgets": {},
     "nuid": "90cd7ee9-5aaa-4e18-afc2-d9d1617cd9c2",
     "showTitle": false,
     "title": ""
    }
   },
   "outputs": [
    {
     "output_type": "execute_result",
     "data": {
      "text/plain": [
       "True"
      ]
     },
     "execution_count": 17,
     "metadata": {},
     "output_type": "execute_result"
    }
   ],
   "source": [
    "dbutils.fs.cp(\"/FileStore/tables/clinicaltrial_2020.zip\", \"file:/tmp\")"
   ]
  },
  {
   "cell_type": "code",
   "execution_count": 0,
   "metadata": {
    "application/vnd.databricks.v1+cell": {
     "cellMetadata": {
      "byteLimit": 2048000,
      "rowLimit": 10000
     },
     "inputWidgets": {},
     "nuid": "c1b25a00-9fa7-43eb-9ea4-6a7d8adc76b3",
     "showTitle": false,
     "title": ""
    }
   },
   "outputs": [
    {
     "output_type": "execute_result",
     "data": {
      "text/plain": [
       "True"
      ]
     },
     "execution_count": 14,
     "metadata": {},
     "output_type": "execute_result"
    }
   ],
   "source": [
    "dbutils.fs.cp(\"/FileStore/tables/clinicaltrial_2021.zip\", \"file:/tmp\")"
   ]
  },
  {
   "cell_type": "code",
   "execution_count": 0,
   "metadata": {
    "application/vnd.databricks.v1+cell": {
     "cellMetadata": {
      "byteLimit": 2048000,
      "rowLimit": 10000
     },
     "inputWidgets": {},
     "nuid": "cd1572e1-0b95-409e-ac95-70d052f21ede",
     "showTitle": false,
     "title": ""
    }
   },
   "outputs": [
    {
     "output_type": "stream",
     "name": "stdout",
     "output_type": "stream",
     "text": [
      "Archive:  /tmp/clinicaltrial_2021.zip\n  inflating: /tmp/clinicaltrial_2021.csv  \n"
     ]
    }
   ],
   "source": [
    "%sh\n",
    "unzip -d /tmp/  /tmp/clinicaltrial_2021.zip"
   ]
  },
  {
   "cell_type": "code",
   "execution_count": 0,
   "metadata": {
    "application/vnd.databricks.v1+cell": {
     "cellMetadata": {
      "byteLimit": 2048000,
      "rowLimit": 10000
     },
     "inputWidgets": {},
     "nuid": "17b0f775-d7f7-4561-91d7-6df6a42725f3",
     "showTitle": false,
     "title": ""
    }
   },
   "outputs": [
    {
     "output_type": "stream",
     "name": "stdout",
     "output_type": "stream",
     "text": [
      "Archive:  /tmp/clinicaltrial_2020.zip\n  inflating: /tmp/clinicaltrial_2020.csv  \n"
     ]
    }
   ],
   "source": [
    "%sh\n",
    "unzip -d /tmp/  /tmp/clinicaltrial_2020.zip\n"
   ]
  },
  {
   "cell_type": "code",
   "execution_count": 0,
   "metadata": {
    "application/vnd.databricks.v1+cell": {
     "cellMetadata": {
      "byteLimit": 2048000,
      "rowLimit": 10000
     },
     "inputWidgets": {},
     "nuid": "5a81ede8-665a-48d1-b973-fc0c454fdbc6",
     "showTitle": false,
     "title": ""
    }
   },
   "outputs": [
    {
     "output_type": "execute_result",
     "data": {
      "text/plain": [
       "True"
      ]
     },
     "execution_count": 19,
     "metadata": {},
     "output_type": "execute_result"
    }
   ],
   "source": [
    "dbutils.fs.mkdirs(\"FileStore/tables/clinicaltrial_2020.csv\")"
   ]
  },
  {
   "cell_type": "code",
   "execution_count": 0,
   "metadata": {
    "application/vnd.databricks.v1+cell": {
     "cellMetadata": {
      "byteLimit": 2048000,
      "rowLimit": 10000
     },
     "inputWidgets": {},
     "nuid": "b07302aa-7e30-40b9-bec4-67a5e3bc48f7",
     "showTitle": false,
     "title": ""
    }
   },
   "outputs": [
    {
     "output_type": "execute_result",
     "data": {
      "text/plain": [
       "True"
      ]
     },
     "execution_count": 20,
     "metadata": {},
     "output_type": "execute_result"
    }
   ],
   "source": [
    "dbutils.fs.mkdirs(\"FileStore/tables/clinicaltrial_2021.csv\")"
   ]
  },
  {
   "cell_type": "code",
   "execution_count": 0,
   "metadata": {
    "application/vnd.databricks.v1+cell": {
     "cellMetadata": {
      "byteLimit": 2048000,
      "rowLimit": 10000
     },
     "inputWidgets": {},
     "nuid": "a2d93a1b-3a11-4335-a27f-b1e0d95ac6bf",
     "showTitle": false,
     "title": ""
    }
   },
   "outputs": [
    {
     "output_type": "execute_result",
     "data": {
      "text/plain": [
       "True"
      ]
     },
     "execution_count": 21,
     "metadata": {},
     "output_type": "execute_result"
    }
   ],
   "source": [
    "dbutils.fs.mv(\"file:/tmp/clinicaltrial_2020.csv\", \"/FileStore/tables/clinicaltrial_2020.csv\", True)"
   ]
  },
  {
   "cell_type": "code",
   "execution_count": 0,
   "metadata": {
    "application/vnd.databricks.v1+cell": {
     "cellMetadata": {
      "byteLimit": 2048000,
      "rowLimit": 10000
     },
     "inputWidgets": {},
     "nuid": "31b0d124-f376-4892-9c38-798a41d875a2",
     "showTitle": false,
     "title": ""
    }
   },
   "outputs": [
    {
     "output_type": "execute_result",
     "data": {
      "text/plain": [
       "True"
      ]
     },
     "execution_count": 22,
     "metadata": {},
     "output_type": "execute_result"
    }
   ],
   "source": [
    "dbutils.fs.mv(\"file:/tmp/clinicaltrial_2021.csv\", \"/FileStore/tables/clinicaltrial_2021.csv\", True)"
   ]
  },
  {
   "cell_type": "markdown",
   "metadata": {
    "application/vnd.databricks.v1+cell": {
     "cellMetadata": {},
     "inputWidgets": {},
     "nuid": "30c577d7-2810-49fa-ab34-ba0e36cd1d63",
     "showTitle": false,
     "title": ""
    }
   },
   "source": [
    "Reusable code of Clinicaltrial_2023"
   ]
  },
  {
   "cell_type": "code",
   "execution_count": 0,
   "metadata": {
    "application/vnd.databricks.v1+cell": {
     "cellMetadata": {
      "byteLimit": 2048000,
      "rowLimit": 10000
     },
     "inputWidgets": {},
     "nuid": "35ee3744-878d-4b59-8274-2fdb0059d215",
     "showTitle": false,
     "title": ""
    }
   },
   "outputs": [
    {
     "output_type": "execute_result",
     "data": {
      "text/plain": [
       "[FileInfo(path='dbfs:/FileStore/tables/Occupancy_Detection_Data.csv', name='Occupancy_Detection_Data.csv', size=50968, modificationTime=1709127367000),\n",
       " FileInfo(path='dbfs:/FileStore/tables/account-models/', name='account-models/', size=0, modificationTime=0),\n",
       " FileInfo(path='dbfs:/FileStore/tables/accounts/', name='accounts/', size=0, modificationTime=0),\n",
       " FileInfo(path='dbfs:/FileStore/tables/accounts.zip', name='accounts.zip', size=5297592, modificationTime=1706713008000),\n",
       " FileInfo(path='dbfs:/FileStore/tables/activations/', name='activations/', size=0, modificationTime=0),\n",
       " FileInfo(path='dbfs:/FileStore/tables/activations.zip', name='activations.zip', size=8411369, modificationTime=1706709062000),\n",
       " FileInfo(path='dbfs:/FileStore/tables/clinicaltrial_2020.csv/', name='clinicaltrial_2020.csv/', size=0, modificationTime=0),\n",
       " FileInfo(path='dbfs:/FileStore/tables/clinicaltrial_2020.zip', name='clinicaltrial_2020.zip', size=10599182, modificationTime=1713448318000),\n",
       " FileInfo(path='dbfs:/FileStore/tables/clinicaltrial_2021.csv/', name='clinicaltrial_2021.csv/', size=0, modificationTime=0),\n",
       " FileInfo(path='dbfs:/FileStore/tables/clinicaltrial_2021.zip', name='clinicaltrial_2021.zip', size=11508457, modificationTime=1713448255000),\n",
       " FileInfo(path='dbfs:/FileStore/tables/clinicaltrial_2023/', name='clinicaltrial_2023/', size=0, modificationTime=0),\n",
       " FileInfo(path='dbfs:/FileStore/tables/clinicaltrial_2023-1.csv', name='clinicaltrial_2023-1.csv', size=235575010, modificationTime=1714477484000),\n",
       " FileInfo(path='dbfs:/FileStore/tables/clinicaltrial_2023-2.csv', name='clinicaltrial_2023-2.csv', size=235575010, modificationTime=1714502218000),\n",
       " FileInfo(path='dbfs:/FileStore/tables/clinicaltrial_2023.csv/', name='clinicaltrial_2023.csv/', size=0, modificationTime=0),\n",
       " FileInfo(path='dbfs:/FileStore/tables/clinicaltrial_2023.zip', name='clinicaltrial_2023.zip', size=57166668, modificationTime=1714476695000),\n",
       " FileInfo(path='dbfs:/FileStore/tables/flood.zip', name='flood.zip', size=52053, modificationTime=1707919987000),\n",
       " FileInfo(path='dbfs:/FileStore/tables/iotstream.zip', name='iotstream.zip', size=43891, modificationTime=1708522683000),\n",
       " FileInfo(path='dbfs:/FileStore/tables/logs/', name='logs/', size=0, modificationTime=0),\n",
       " FileInfo(path='dbfs:/FileStore/tables/logs.zip', name='logs.zip', size=18168065, modificationTime=1706713034000),\n",
       " FileInfo(path='dbfs:/FileStore/tables/movies.csv', name='movies.csv', size=494431, modificationTime=1709731314000),\n",
       " FileInfo(path='dbfs:/FileStore/tables/myratings.csv', name='myratings.csv', size=10683, modificationTime=1709732549000),\n",
       " FileInfo(path='dbfs:/FileStore/tables/myratings_1_-1.csv', name='myratings_1_-1.csv', size=10683, modificationTime=1709732372000),\n",
       " FileInfo(path='dbfs:/FileStore/tables/myratings_1_-2.csv', name='myratings_1_-2.csv', size=10683, modificationTime=1709732460000),\n",
       " FileInfo(path='dbfs:/FileStore/tables/myratings_1_.csv', name='myratings_1_.csv', size=10683, modificationTime=1709731314000),\n",
       " FileInfo(path='dbfs:/FileStore/tables/pharma-1.csv', name='pharma-1.csv', size=678999, modificationTime=1714477590000),\n",
       " FileInfo(path='dbfs:/FileStore/tables/pharma-2.csv', name='pharma-2.csv', size=678999, modificationTime=1714477755000),\n",
       " FileInfo(path='dbfs:/FileStore/tables/pharma.csv/', name='pharma.csv/', size=0, modificationTime=0),\n",
       " FileInfo(path='dbfs:/FileStore/tables/pharma.zip', name='pharma.zip', size=109982, modificationTime=1714476707000),\n",
       " FileInfo(path='dbfs:/FileStore/tables/ratings.csv', name='ratings.csv', size=2483723, modificationTime=1709731314000),\n",
       " FileInfo(path='dbfs:/FileStore/tables/steam_200k.csv', name='steam_200k.csv', size=8059447, modificationTime=1714560061000),\n",
       " FileInfo(path='dbfs:/FileStore/tables/test-1.json', name='test-1.json', size=17958, modificationTime=1706105406000),\n",
       " FileInfo(path='dbfs:/FileStore/tables/test-2.json', name='test-2.json', size=17958, modificationTime=1706105642000),\n",
       " FileInfo(path='dbfs:/FileStore/tables/test.json', name='test.json', size=17958, modificationTime=1706102959000),\n",
       " FileInfo(path='dbfs:/FileStore/tables/webpage/', name='webpage/', size=0, modificationTime=0),\n",
       " FileInfo(path='dbfs:/FileStore/tables/webpage.zip', name='webpage.zip', size=1582, modificationTime=1707312161000)]"
      ]
     },
     "execution_count": 3,
     "metadata": {},
     "output_type": "execute_result"
    }
   ],
   "source": [
    "dbutils.fs.ls(\"/FileStore/tables/\")"
   ]
  },
  {
   "cell_type": "code",
   "execution_count": 0,
   "metadata": {
    "application/vnd.databricks.v1+cell": {
     "cellMetadata": {
      "byteLimit": 2048000,
      "rowLimit": 10000
     },
     "inputWidgets": {},
     "nuid": "b0fa65e7-b551-4e40-b0e4-2c8042ab1be6",
     "showTitle": false,
     "title": ""
    }
   },
   "outputs": [
    {
     "output_type": "execute_result",
     "data": {
      "text/plain": [
       "True"
      ]
     },
     "execution_count": 75,
     "metadata": {},
     "output_type": "execute_result"
    }
   ],
   "source": [
    "fileroot = \"clinicaltrial_2023\"\n",
    "dbutils.fs.cp(\"/FileStore/tables/\" + fileroot + \".zip\", \"file:/tmp/\")"
   ]
  },
  {
   "cell_type": "code",
   "execution_count": 0,
   "metadata": {
    "application/vnd.databricks.v1+cell": {
     "cellMetadata": {
      "byteLimit": 2048000,
      "rowLimit": 10000
     },
     "inputWidgets": {},
     "nuid": "d809b903-29e0-4ff3-912c-b6a64ce117f5",
     "showTitle": false,
     "title": ""
    }
   },
   "outputs": [],
   "source": [
    "import os\n",
    "\n",
    "os.environ['fileroot'] = fileroot"
   ]
  },
  {
   "cell_type": "code",
   "execution_count": 0,
   "metadata": {
    "application/vnd.databricks.v1+cell": {
     "cellMetadata": {
      "byteLimit": 2048000,
      "rowLimit": 10000
     },
     "inputWidgets": {},
     "nuid": "911a33d8-3938-4d82-a010-18666b0ea669",
     "showTitle": false,
     "title": ""
    }
   },
   "outputs": [
    {
     "output_type": "stream",
     "name": "stdout",
     "output_type": "stream",
     "text": [
      "Archive:  /tmp/clinicaltrial_2023.zip\n  inflating: /tmp/clinicaltrial_2023.csv  \n"
     ]
    }
   ],
   "source": [
    "%sh\n",
    "unzip -d /tmp/ /tmp/$fileroot.zip"
   ]
  },
  {
   "cell_type": "code",
   "execution_count": 0,
   "metadata": {
    "application/vnd.databricks.v1+cell": {
     "cellMetadata": {
      "byteLimit": 2048000,
      "rowLimit": 10000
     },
     "inputWidgets": {},
     "nuid": "2e761e2f-b033-49c8-8302-234c8e00ad6c",
     "showTitle": false,
     "title": ""
    }
   },
   "outputs": [
    {
     "output_type": "execute_result",
     "data": {
      "text/plain": [
       "True"
      ]
     },
     "execution_count": 78,
     "metadata": {},
     "output_type": "execute_result"
    }
   ],
   "source": [
    "dbutils.fs.mkdirs(\"/FileStore/tables/\" + fileroot)"
   ]
  },
  {
   "cell_type": "code",
   "execution_count": 0,
   "metadata": {
    "application/vnd.databricks.v1+cell": {
     "cellMetadata": {
      "byteLimit": 2048000,
      "rowLimit": 10000
     },
     "inputWidgets": {},
     "nuid": "65638d73-b947-4d51-8540-bb9008656801",
     "showTitle": false,
     "title": ""
    }
   },
   "outputs": [
    {
     "output_type": "execute_result",
     "data": {
      "text/plain": [
       "True"
      ]
     },
     "execution_count": 79,
     "metadata": {},
     "output_type": "execute_result"
    }
   ],
   "source": [
    "dbutils.fs.mv(\"file:/tmp/\" + fileroot + \".csv\", \"/FileStore/tables/\" + fileroot + \".csv\", True)"
   ]
  },
  {
   "cell_type": "code",
   "execution_count": 0,
   "metadata": {
    "application/vnd.databricks.v1+cell": {
     "cellMetadata": {
      "byteLimit": 2048000,
      "rowLimit": 10000
     },
     "inputWidgets": {},
     "nuid": "7c8ed85f-92cf-4a0d-a31a-19a44e00958f",
     "showTitle": false,
     "title": ""
    }
   },
   "outputs": [
    {
     "output_type": "execute_result",
     "data": {
      "text/plain": [
       "[]"
      ]
     },
     "execution_count": 67,
     "metadata": {},
     "output_type": "execute_result"
    }
   ],
   "source": [
    "dbutils.fs.ls(\"/FileStore/tables/\" + fileroot)"
   ]
  },
  {
   "cell_type": "code",
   "execution_count": 0,
   "metadata": {
    "application/vnd.databricks.v1+cell": {
     "cellMetadata": {
      "byteLimit": 2048000,
      "rowLimit": 10000
     },
     "inputWidgets": {},
     "nuid": "bc5dc9c2-a9b9-495b-881d-df25090696c8",
     "showTitle": false,
     "title": ""
    }
   },
   "outputs": [
    {
     "output_type": "execute_result",
     "data": {
      "text/plain": [
       "[FileInfo(path='dbfs:/FileStore/tables/Occupancy_Detection_Data.csv', name='Occupancy_Detection_Data.csv', size=50968, modificationTime=1709127367000),\n",
       " FileInfo(path='dbfs:/FileStore/tables/account-models/', name='account-models/', size=0, modificationTime=0),\n",
       " FileInfo(path='dbfs:/FileStore/tables/accounts/', name='accounts/', size=0, modificationTime=0),\n",
       " FileInfo(path='dbfs:/FileStore/tables/accounts.zip', name='accounts.zip', size=5297592, modificationTime=1706713008000),\n",
       " FileInfo(path='dbfs:/FileStore/tables/activations/', name='activations/', size=0, modificationTime=0),\n",
       " FileInfo(path='dbfs:/FileStore/tables/activations.zip', name='activations.zip', size=8411369, modificationTime=1706709062000),\n",
       " FileInfo(path='dbfs:/FileStore/tables/clinicaltrial_2020.csv/', name='clinicaltrial_2020.csv/', size=0, modificationTime=0),\n",
       " FileInfo(path='dbfs:/FileStore/tables/clinicaltrial_2020.zip', name='clinicaltrial_2020.zip', size=10599182, modificationTime=1713448318000),\n",
       " FileInfo(path='dbfs:/FileStore/tables/clinicaltrial_2021/', name='clinicaltrial_2021/', size=0, modificationTime=0),\n",
       " FileInfo(path='dbfs:/FileStore/tables/clinicaltrial_2021-1.zip', name='clinicaltrial_2021-1.zip', size=22, modificationTime=1714593071000),\n",
       " FileInfo(path='dbfs:/FileStore/tables/clinicaltrial_2021.csv/', name='clinicaltrial_2021.csv/', size=0, modificationTime=0),\n",
       " FileInfo(path='dbfs:/FileStore/tables/clinicaltrial_2021.zip', name='clinicaltrial_2021.zip', size=22, modificationTime=1714594485000),\n",
       " FileInfo(path='dbfs:/FileStore/tables/clinicaltrial_2023/', name='clinicaltrial_2023/', size=0, modificationTime=0),\n",
       " FileInfo(path='dbfs:/FileStore/tables/clinicaltrial_2023-1.csv', name='clinicaltrial_2023-1.csv', size=235575010, modificationTime=1714477484000),\n",
       " FileInfo(path='dbfs:/FileStore/tables/clinicaltrial_2023-2.csv', name='clinicaltrial_2023-2.csv', size=235575010, modificationTime=1714502218000),\n",
       " FileInfo(path='dbfs:/FileStore/tables/clinicaltrial_2023.csv/', name='clinicaltrial_2023.csv/', size=0, modificationTime=0),\n",
       " FileInfo(path='dbfs:/FileStore/tables/clinicaltrial_2023.zip', name='clinicaltrial_2023.zip', size=57166668, modificationTime=1714476695000),\n",
       " FileInfo(path='dbfs:/FileStore/tables/flood.zip', name='flood.zip', size=52053, modificationTime=1707919987000),\n",
       " FileInfo(path='dbfs:/FileStore/tables/iotstream.zip', name='iotstream.zip', size=43891, modificationTime=1708522683000),\n",
       " FileInfo(path='dbfs:/FileStore/tables/logs/', name='logs/', size=0, modificationTime=0),\n",
       " FileInfo(path='dbfs:/FileStore/tables/logs.zip', name='logs.zip', size=18168065, modificationTime=1706713034000),\n",
       " FileInfo(path='dbfs:/FileStore/tables/movies.csv', name='movies.csv', size=494431, modificationTime=1709731314000),\n",
       " FileInfo(path='dbfs:/FileStore/tables/myratings.csv', name='myratings.csv', size=10683, modificationTime=1709732549000),\n",
       " FileInfo(path='dbfs:/FileStore/tables/myratings_1_-1.csv', name='myratings_1_-1.csv', size=10683, modificationTime=1709732372000),\n",
       " FileInfo(path='dbfs:/FileStore/tables/myratings_1_-2.csv', name='myratings_1_-2.csv', size=10683, modificationTime=1709732460000),\n",
       " FileInfo(path='dbfs:/FileStore/tables/myratings_1_.csv', name='myratings_1_.csv', size=10683, modificationTime=1709731314000),\n",
       " FileInfo(path='dbfs:/FileStore/tables/pharma-1.csv', name='pharma-1.csv', size=678999, modificationTime=1714477590000),\n",
       " FileInfo(path='dbfs:/FileStore/tables/pharma-2.csv', name='pharma-2.csv', size=678999, modificationTime=1714477755000),\n",
       " FileInfo(path='dbfs:/FileStore/tables/pharma.csv/', name='pharma.csv/', size=0, modificationTime=0),\n",
       " FileInfo(path='dbfs:/FileStore/tables/pharma.zip', name='pharma.zip', size=109982, modificationTime=1714476707000),\n",
       " FileInfo(path='dbfs:/FileStore/tables/ratings.csv', name='ratings.csv', size=2483723, modificationTime=1709731314000),\n",
       " FileInfo(path='dbfs:/FileStore/tables/steam_200k.csv', name='steam_200k.csv', size=8059447, modificationTime=1714560061000),\n",
       " FileInfo(path='dbfs:/FileStore/tables/test-1.json', name='test-1.json', size=17958, modificationTime=1706105406000),\n",
       " FileInfo(path='dbfs:/FileStore/tables/test-2.json', name='test-2.json', size=17958, modificationTime=1706105642000),\n",
       " FileInfo(path='dbfs:/FileStore/tables/test.json', name='test.json', size=17958, modificationTime=1706102959000),\n",
       " FileInfo(path='dbfs:/FileStore/tables/webpage/', name='webpage/', size=0, modificationTime=0),\n",
       " FileInfo(path='dbfs:/FileStore/tables/webpage.zip', name='webpage.zip', size=1582, modificationTime=1707312161000)]"
      ]
     },
     "execution_count": 55,
     "metadata": {},
     "output_type": "execute_result"
    }
   ],
   "source": [
    "dbutils.fs.ls(\"FileStore/tables/\")"
   ]
  },
  {
   "cell_type": "code",
   "execution_count": 0,
   "metadata": {
    "application/vnd.databricks.v1+cell": {
     "cellMetadata": {
      "byteLimit": 2048000,
      "rowLimit": 10000
     },
     "inputWidgets": {},
     "nuid": "06907f57-dd0f-4251-9517-a8ba1dd04751",
     "showTitle": false,
     "title": ""
    }
   },
   "outputs": [
    {
     "output_type": "execute_result",
     "data": {
      "text/plain": [
       "True"
      ]
     },
     "execution_count": 68,
     "metadata": {},
     "output_type": "execute_result"
    }
   ],
   "source": [
    "fileroot = \"clinicaltrial_2021\"\n",
    "dbutils.fs.cp(\"/FileStore/tables/\" + fileroot + \".zip\", \"file:/tmp\")"
   ]
  },
  {
   "cell_type": "code",
   "execution_count": 0,
   "metadata": {
    "application/vnd.databricks.v1+cell": {
     "cellMetadata": {
      "byteLimit": 2048000,
      "rowLimit": 10000
     },
     "inputWidgets": {},
     "nuid": "fd7bd843-0d07-46bc-a280-3a0889026d56",
     "showTitle": false,
     "title": ""
    }
   },
   "outputs": [],
   "source": [
    "import os\n",
    "\n",
    "os.environ['fileroot'] = fileroot"
   ]
  },
  {
   "cell_type": "code",
   "execution_count": 0,
   "metadata": {
    "application/vnd.databricks.v1+cell": {
     "cellMetadata": {
      "byteLimit": 2048000,
      "rowLimit": 10000
     },
     "inputWidgets": {},
     "nuid": "a11de7c8-4041-4617-818f-653dc493b697",
     "showTitle": false,
     "title": ""
    }
   },
   "outputs": [
    {
     "output_type": "stream",
     "name": "stdout",
     "output_type": "stream",
     "text": [
      "Archive:  /tmp/clinicaltrial_2021.zip\n  inflating: /tmp/clinicaltrial_2021.csv  \n"
     ]
    }
   ],
   "source": [
    "%sh\n",
    "unzip -d /tmp/ /tmp/$fileroot.zip"
   ]
  },
  {
   "cell_type": "code",
   "execution_count": 0,
   "metadata": {
    "application/vnd.databricks.v1+cell": {
     "cellMetadata": {
      "byteLimit": 2048000,
      "rowLimit": 10000
     },
     "inputWidgets": {},
     "nuid": "ac364568-3fa0-4bf5-a1e7-49c284e4ef6e",
     "showTitle": false,
     "title": ""
    }
   },
   "outputs": [
    {
     "output_type": "execute_result",
     "data": {
      "text/plain": [
       "True"
      ]
     },
     "execution_count": 71,
     "metadata": {},
     "output_type": "execute_result"
    }
   ],
   "source": [
    "dbutils.fs.mkdirs(\"/FileStore/tables/\" + fileroot)"
   ]
  },
  {
   "cell_type": "code",
   "execution_count": 0,
   "metadata": {
    "application/vnd.databricks.v1+cell": {
     "cellMetadata": {
      "byteLimit": 2048000,
      "rowLimit": 10000
     },
     "inputWidgets": {},
     "nuid": "32cfa439-d621-44d8-bd97-f334b2fbef79",
     "showTitle": false,
     "title": ""
    }
   },
   "outputs": [
    {
     "output_type": "execute_result",
     "data": {
      "text/plain": [
       "True"
      ]
     },
     "execution_count": 72,
     "metadata": {},
     "output_type": "execute_result"
    }
   ],
   "source": [
    "dbutils.fs.mv(\"file:/tmp/\" + fileroot + \".csv\", \"/FileStore/tables/\" + fileroot + \".csv\", True)"
   ]
  },
  {
   "cell_type": "code",
   "execution_count": 0,
   "metadata": {
    "application/vnd.databricks.v1+cell": {
     "cellMetadata": {
      "byteLimit": 2048000,
      "rowLimit": 10000
     },
     "inputWidgets": {},
     "nuid": "df27edd8-a401-438c-b0e8-0611ead513b6",
     "showTitle": false,
     "title": ""
    }
   },
   "outputs": [
    {
     "output_type": "execute_result",
     "data": {
      "text/plain": [
       "True"
      ]
     },
     "execution_count": 73,
     "metadata": {},
     "output_type": "execute_result"
    }
   ],
   "source": [
    "dbutils.fs.rm(\"/FileStore/tables/\" + fileroot  + \".zip\")"
   ]
  },
  {
   "cell_type": "code",
   "execution_count": 0,
   "metadata": {
    "application/vnd.databricks.v1+cell": {
     "cellMetadata": {
      "byteLimit": 2048000,
      "rowLimit": 10000
     },
     "inputWidgets": {},
     "nuid": "aa1615cf-fa1e-4faf-90a9-957f1654b022",
     "showTitle": false,
     "title": ""
    }
   },
   "outputs": [
    {
     "output_type": "execute_result",
     "data": {
      "text/plain": [
       "[]"
      ]
     },
     "execution_count": 74,
     "metadata": {},
     "output_type": "execute_result"
    }
   ],
   "source": [
    "dbutils.fs.ls(\"/FileStore/tables/\" + fileroot)"
   ]
  },
  {
   "cell_type": "code",
   "execution_count": 0,
   "metadata": {
    "application/vnd.databricks.v1+cell": {
     "cellMetadata": {},
     "inputWidgets": {},
     "nuid": "a6348841-f129-4ac4-8800-3f5dfa225fa2",
     "showTitle": false,
     "title": ""
    }
   },
   "outputs": [],
   "source": []
  }
 ],
 "metadata": {
  "application/vnd.databricks.v1+notebook": {
   "dashboards": [],
   "language": "python",
   "notebookMetadata": {
    "mostRecentlyExecutedCommandWithImplicitDF": {
     "commandId": 2599336584815413,
     "dataframes": [
      "_sqldf"
     ]
    },
    "pythonIndentUnit": 4
   },
   "notebookName": "Task 1 DataFrame Implementation",
   "widgets": {}
  }
 },
 "nbformat": 4,
 "nbformat_minor": 0
}
