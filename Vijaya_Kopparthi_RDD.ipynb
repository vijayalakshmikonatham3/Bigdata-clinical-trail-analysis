{
 "cells": [
  {
   "cell_type": "markdown",
   "metadata": {
    "application/vnd.databricks.v1+cell": {
     "cellMetadata": {},
     "inputWidgets": {},
     "nuid": "0caadf8b-3ff2-489a-a4b1-ab0321ac2afe",
     "showTitle": false,
     "title": ""
    }
   },
   "source": [
    "No. Of Distinct Studies "
   ]
  },
  {
   "cell_type": "code",
   "execution_count": 0,
   "metadata": {
    "application/vnd.databricks.v1+cell": {
     "cellMetadata": {
      "byteLimit": 2048000,
      "rowLimit": 10000
     },
     "inputWidgets": {},
     "nuid": "498f5948-069c-4abb-8d39-21e2b35f5007",
     "showTitle": false,
     "title": ""
    }
   },
   "outputs": [],
   "source": [
    "from pyspark.sql import SparkSession\n",
    "\n",
    "# Initialize Spark session\n",
    "spark = SparkSession.builder \\\n",
    "    .appName(\"Clinical Trial Analysis\") \\\n",
    "    .master(\"local\") \\\n",
    "    .getOrCreate()\n",
    "\n",
    "# Load the data\n",
    "file_path = \"/FileStore/tables/clinicaltrial_2023.csv\"\n",
    "df = spark.read.option(\"header\", \"true\").csv(file_path)\n",
    "df.createOrReplaceTempView(\"clinical_trials\")\n"
   ]
  },
  {
   "cell_type": "code",
   "execution_count": 0,
   "metadata": {
    "application/vnd.databricks.v1+cell": {
     "cellMetadata": {
      "byteLimit": 2048000,
      "rowLimit": 10000
     },
     "inputWidgets": {},
     "nuid": "c6d2168f-ef8b-47b6-9c4d-591c1b29e50c",
     "showTitle": false,
     "title": ""
    }
   },
   "outputs": [],
   "source": [
    "clinicaltrial_2023_df = spark.read.option(\"header\", \"true\").csv(\"/FileStore/tables/clinicaltrial_2023.csv\")"
   ]
  },
  {
   "cell_type": "code",
   "execution_count": 0,
   "metadata": {
    "application/vnd.databricks.v1+cell": {
     "cellMetadata": {
      "byteLimit": 2048000,
      "rowLimit": 10000
     },
     "inputWidgets": {},
     "nuid": "dab678eb-c6ab-4659-8fea-392907508829",
     "showTitle": false,
     "title": ""
    }
   },
   "outputs": [],
   "source": [
    "pharma_df = spark.read.option(\"header\", \"true\").csv(\"/FileStore/tables/pharma.csv\")"
   ]
  },
  {
   "cell_type": "code",
   "execution_count": 0,
   "metadata": {
    "application/vnd.databricks.v1+cell": {
     "cellMetadata": {
      "byteLimit": 2048000,
      "rowLimit": 10000
     },
     "inputWidgets": {},
     "nuid": "e6912ba3-9451-497c-819e-5594228958dc",
     "showTitle": false,
     "title": ""
    }
   },
   "outputs": [],
   "source": [
    "clinicaltrial_2023_df.createOrReplaceTempView(\"clinicaltrial_2023\")\n",
    "pharma_df.createOrReplaceTempView(\"pharma\")"
   ]
  },
  {
   "cell_type": "code",
   "execution_count": 0,
   "metadata": {
    "application/vnd.databricks.v1+cell": {
     "cellMetadata": {
      "byteLimit": 2048000,
      "rowLimit": 10000
     },
     "inputWidgets": {},
     "nuid": "85955dc2-38a8-40fa-b7d7-b77d0741334b",
     "showTitle": false,
     "title": ""
    }
   },
   "outputs": [
    {
     "output_type": "stream",
     "name": "stdout",
     "output_type": "stream",
     "text": [
      "root\n |-- Id\\tStudy Title\\tAcronym\\tStatus\\tConditions\\tInterventions\\tSponsor\\tCollaborators\\tEnrollment\\tFunder Type\\tType\\tStudy Design\\tStart\\tCompletion: string (nullable = true)\n |-- _c1: string (nullable = true)\n |-- _c2: string (nullable = true)\n |-- _c3: string (nullable = true)\n |-- _c4: string (nullable = true)\n |-- _c5: string (nullable = true)\n |-- _c6: string (nullable = true)\n |-- _c7: string (nullable = true)\n |-- _c8: string (nullable = true)\n |-- _c9: string (nullable = true)\n |-- _c10: string (nullable = true)\n |-- _c11: string (nullable = true)\n |-- _c12: string (nullable = true)\n |-- _c13: string (nullable = true)\n |-- _c14: string (nullable = true)\n |-- _c15: string (nullable = true)\n |-- _c16: string (nullable = true)\n |-- _c17: string (nullable = true)\n |-- _c18: string (nullable = true)\n |-- _c19: string (nullable = true)\n |-- _c20: string (nullable = true)\n |-- _c21: string (nullable = true)\n |-- _c22: string (nullable = true)\n |-- _c23: string (nullable = true)\n |-- _c24: string (nullable = true)\n |-- _c25: string (nullable = true)\n |-- _c26: string (nullable = true)\n |-- _c27: string (nullable = true)\n |-- _c28: string (nullable = true)\n |-- _c29: string (nullable = true)\n |-- _c30: string (nullable = true)\n |-- _c31: string (nullable = true)\n |-- _c32: string (nullable = true)\n |-- _c33: string (nullable = true)\n |-- _c34: string (nullable = true)\n |-- _c35: string (nullable = true)\n |-- _c36: string (nullable = true)\n |-- _c37: string (nullable = true)\n |-- _c38: string (nullable = true)\n |-- _c39: string (nullable = true)\n |-- _c40: string (nullable = true)\n |-- _c41: string (nullable = true)\n |-- _c42: string (nullable = true)\n |-- _c43: string (nullable = true)\n |-- _c44: string (nullable = true)\n |-- _c45: string (nullable = true)\n |-- _c46: string (nullable = true)\n |-- _c47: string (nullable = true)\n |-- _c48: string (nullable = true)\n |-- _c49: string (nullable = true)\n |-- _c50: string (nullable = true)\n |-- _c51: string (nullable = true)\n |-- _c52: string (nullable = true)\n |-- _c53: string (nullable = true)\n |-- _c54: string (nullable = true)\n |-- _c55: string (nullable = true)\n |-- _c56: string (nullable = true)\n |-- _c57: string (nullable = true)\n |-- _c58: string (nullable = true)\n |-- _c59: string (nullable = true)\n |-- _c60: string (nullable = true)\n |-- _c61: string (nullable = true)\n |-- _c62: string (nullable = true)\n |-- _c63: string (nullable = true)\n |-- _c64: string (nullable = true)\n |-- _c65: string (nullable = true)\n |-- _c66: string (nullable = true)\n |-- _c67: string (nullable = true)\n |-- _c68: string (nullable = true)\n |-- _c69: string (nullable = true)\n |-- _c70: string (nullable = true)\n |-- _c71: string (nullable = true)\n |-- _c72: string (nullable = true)\n |-- _c73: string (nullable = true)\n |-- _c74: string (nullable = true)\n |-- _c75: string (nullable = true)\n |-- _c76: string (nullable = true)\n |-- _c77: string (nullable = true)\n |-- _c78: string (nullable = true)\n |-- _c79: string (nullable = true)\n |-- _c80: string (nullable = true)\n |-- _c81: string (nullable = true)\n |-- _c82: string (nullable = true)\n |-- _c83: string (nullable = true)\n |-- _c84: string (nullable = true)\n |-- _c85: string (nullable = true)\n |-- _c86: string (nullable = true)\n |-- _c87: string (nullable = true)\n |-- _c88: string (nullable = true)\n |-- _c89: string (nullable = true)\n |-- _c90: string (nullable = true)\n |-- _c91: string (nullable = true)\n |-- _c92: string (nullable = true)\n |-- _c93: string (nullable = true)\n |-- _c94: string (nullable = true)\n |-- _c95: string (nullable = true)\n |-- _c96: string (nullable = true)\n |-- _c97: string (nullable = true)\n |-- _c98: string (nullable = true)\n |-- _c99: string (nullable = true)\n |-- _c100: string (nullable = true)\n |-- _c101: string (nullable = true)\n |-- _c102: string (nullable = true)\n |-- _c103: string (nullable = true)\n |-- _c104: string (nullable = true)\n |-- _c105: string (nullable = true)\n |-- _c106: string (nullable = true)\n |-- _c107: string (nullable = true)\n |-- _c108: string (nullable = true)\n |-- _c109: string (nullable = true)\n |-- _c110: string (nullable = true)\n |-- _c111: string (nullable = true)\n |-- _c112: string (nullable = true)\n |-- _c113: string (nullable = true)\n |-- _c114: string (nullable = true)\n |-- _c115: string (nullable = true)\n |-- _c116: string (nullable = true)\n |-- _c117: string (nullable = true)\n |-- _c118: string (nullable = true)\n |-- _c119: string (nullable = true)\n |-- _c120: string (nullable = true)\n |-- _c121: string (nullable = true)\n |-- _c122: string (nullable = true)\n |-- _c123: string (nullable = true)\n |-- _c124: string (nullable = true)\n |-- _c125: string (nullable = true)\n |-- _c126: string (nullable = true)\n |-- _c127: string (nullable = true)\n |-- _c128: string (nullable = true)\n |-- _c129: string (nullable = true)\n |-- _c130: string (nullable = true)\n |-- _c131: string (nullable = true)\n |-- _c132: string (nullable = true)\n |-- _c133: string (nullable = true)\n |-- _c134: string (nullable = true)\n |-- _c135: string (nullable = true)\n |-- _c136: string (nullable = true)\n |-- _c137: string (nullable = true)\n |-- _c138: string (nullable = true)\n |-- _c139: string (nullable = true)\n |-- _c140: string (nullable = true)\n |-- _c141: string (nullable = true)\n |-- _c142: string (nullable = true)\n |-- _c143: string (nullable = true)\n |-- _c144: string (nullable = true)\n |-- _c145: string (nullable = true)\n |-- _c146: string (nullable = true)\n |-- _c147: string (nullable = true)\n |-- _c148: string (nullable = true)\n |-- _c149: string (nullable = true)\n |-- _c150: string (nullable = true)\n |-- _c151: string (nullable = true)\n |-- _c152: string (nullable = true)\n |-- _c153: string (nullable = true)\n |-- _c154: string (nullable = true)\n |-- _c155: string (nullable = true)\n |-- _c156: string (nullable = true)\n |-- _c157: string (nullable = true)\n |-- _c158: string (nullable = true)\n |-- _c159: string (nullable = true)\n |-- _c160: string (nullable = true)\n |-- _c161: string (nullable = true)\n |-- _c162: string (nullable = true)\n |-- _c163: string (nullable = true)\n |-- _c164: string (nullable = true)\n |-- _c165: string (nullable = true)\n |-- _c166: string (nullable = true)\n |-- _c167: string (nullable = true)\n |-- _c168: string (nullable = true)\n |-- _c169: string (nullable = true)\n |-- _c170: string (nullable = true)\n |-- _c171: string (nullable = true)\n |-- _c172: string (nullable = true)\n |-- _c173: string (nullable = true)\n |-- _c174: string (nullable = true)\n |-- _c175: string (nullable = true)\n |-- _c176: string (nullable = true)\n |-- _c177: string (nullable = true)\n |-- _c178: string (nullable = true)\n |-- _c179: string (nullable = true)\n |-- _c180: string (nullable = true)\n |-- _c181: string (nullable = true)\n |-- _c182: string (nullable = true)\n |-- _c183: string (nullable = true)\n |-- _c184: string (nullable = true)\n |-- _c185: string (nullable = true)\n |-- _c186: string (nullable = true)\n |-- _c187: string (nullable = true)\n |-- _c188: string (nullable = true)\n |-- _c189: string (nullable = true)\n |-- _c190: string (nullable = true)\n |-- _c191: string (nullable = true)\n |-- _c192: string (nullable = true)\n |-- _c193: string (nullable = true)\n |-- _c194: string (nullable = true)\n |-- _c195: string (nullable = true)\n |-- _c196: string (nullable = true)\n |-- _c197: string (nullable = true)\n |-- _c198: string (nullable = true)\n |-- _c199: string (nullable = true)\n |-- _c200: string (nullable = true)\n |-- _c201: string (nullable = true)\n |-- _c202: string (nullable = true)\n |-- _c203: string (nullable = true)\n |-- _c204: string (nullable = true)\n |-- _c205: string (nullable = true)\n |-- _c206: string (nullable = true)\n |-- _c207: string (nullable = true)\n |-- _c208: string (nullable = true)\n |-- _c209: string (nullable = true)\n |-- _c210: string (nullable = true)\n |-- Id: string (nullable = true)\n |-- Study Title: string (nullable = true)\n |-- Acronym: string (nullable = true)\n |-- Status: string (nullable = true)\n |-- Conditions: string (nullable = true)\n |-- Interventions: string (nullable = true)\n |-- Sponsor: string (nullable = true)\n |-- Collaborators: string (nullable = true)\n |-- Enrollment: string (nullable = true)\n |-- Funder Type: string (nullable = true)\n |-- Type: string (nullable = true)\n |-- Study Design: string (nullable = true)\n |-- Start: string (nullable = true)\n |-- Completion: string (nullable = true)\n\n"
     ]
    }
   ],
   "source": [
    "from pyspark.sql.functions import col, split\n",
    "\n",
    "# Defining the actual column name and replacing it with a proper name to avoid syntax issues\n",
    "column_name = \"`Id\\tStudy Title\\tAcronym\\tStatus\\tConditions\\tInterventions\\tSponsor\\tCollaborators\\tEnrollment\\tFunder Type\\tType\\tStudy Design\\tStart\\tCompletion`\"\n",
    "\n",
    "# Define the names of the new columns based on the expected structure\n",
    "column_names = [\n",
    "    \"Id\", \"Study Title\", \"Acronym\", \"Status\", \"Conditions\",\n",
    "    \"Interventions\", \"Sponsor\", \"Collaborators\", \"Enrollment\",\n",
    "    \"Funder Type\", \"Type\", \"Study Design\", \"Start\", \"Completion\"\n",
    "]\n",
    "\n",
    "# Split the single column into multiple columns based on the tab (\\t) separator\n",
    "for index, name in enumerate(column_names):\n",
    "    clinicaltrial_2023_df = clinicaltrial_2023_df.withColumn(name, split(col(column_name), \"\\t\").getItem(index))\n",
    "\n",
    "# Drop the original column that contained all the data\n",
    "clinicaltrial_2023_df = clinicaltrial_2023_df.drop(column_name)\n",
    "\n",
    "# Show the schema to confirm the columns have been created correctly\n",
    "clinicaltrial_2023_df.printSchema()"
   ]
  },
  {
   "cell_type": "code",
   "execution_count": 0,
   "metadata": {
    "application/vnd.databricks.v1+cell": {
     "cellMetadata": {
      "byteLimit": 2048000,
      "rowLimit": 10000
     },
     "inputWidgets": {},
     "nuid": "f9f36c05-9163-4106-96b6-ba2723c1a42b",
     "showTitle": false,
     "title": ""
    }
   },
   "outputs": [
    {
     "output_type": "stream",
     "name": "stdout",
     "output_type": "stream",
     "text": [
      "Number of Distinct Studies: 469789\n"
     ]
    }
   ],
   "source": [
    "distinct_studies_rdd = clinicaltrial_2023_df.rdd.map(lambda row: row[\"Study Title\"]).distinct().count()\n",
    "print(\"Number of Distinct Studies:\", distinct_studies_rdd)"
   ]
  },
  {
   "cell_type": "markdown",
   "metadata": {
    "application/vnd.databricks.v1+cell": {
     "cellMetadata": {},
     "inputWidgets": {},
     "nuid": "4032de13-e244-4096-89f0-7d7ec30e63c2",
     "showTitle": false,
     "title": ""
    }
   },
   "source": [
    "List all the types of studies with their frequencies"
   ]
  },
  {
   "cell_type": "code",
   "execution_count": 0,
   "metadata": {
    "application/vnd.databricks.v1+cell": {
     "cellMetadata": {
      "byteLimit": 2048000,
      "rowLimit": 10000
     },
     "inputWidgets": {},
     "nuid": "8421dc45-7ae9-43c8-bea0-9d1bf705fcb6",
     "showTitle": false,
     "title": ""
    }
   },
   "outputs": [
    {
     "output_type": "stream",
     "name": "stdout",
     "output_type": "stream",
     "text": [
      "[('INTERVENTIONAL', 230984), (None, 180459), ('OBSERVATIONAL', 71499), ('', 889), ('EXPANDED_ACCESS', 559)]\n"
     ]
    }
   ],
   "source": [
    "study_types_rdd = clinicaltrial_2023_df.rdd.map(lambda x: (x.Type, 1)).reduceByKey(lambda x, y: x + y).sortBy(lambda x: x[1], ascending=False)\n",
    "print(study_types_rdd.collect())"
   ]
  },
  {
   "cell_type": "markdown",
   "metadata": {
    "application/vnd.databricks.v1+cell": {
     "cellMetadata": {},
     "inputWidgets": {},
     "nuid": "2f690336-c046-4c1c-9877-f38a06622801",
     "showTitle": false,
     "title": ""
    }
   },
   "source": [
    "The top 5 conditions (from Conditions) with their frequencies."
   ]
  },
  {
   "cell_type": "code",
   "execution_count": 0,
   "metadata": {
    "application/vnd.databricks.v1+cell": {
     "cellMetadata": {
      "byteLimit": 2048000,
      "rowLimit": 10000
     },
     "inputWidgets": {},
     "nuid": "d5d44291-40cf-469f-afd4-a59d4a0743cd",
     "showTitle": false,
     "title": ""
    }
   },
   "outputs": [
    {
     "output_type": "stream",
     "name": "stdout",
     "output_type": "stream",
     "text": [
      "None 41024\nHealthy 6665\nBreast Cancer 4138\nDiabetes Mellitus 3333\nPain 2562\n"
     ]
    }
   ],
   "source": [
    "top_conditions_rdd = clinicaltrial_2023_df.rdd \\\n",
    "    .map(lambda row: (row.Conditions, 1)) \\\n",
    "    .reduceByKey(lambda a, b: a + b) \\\n",
    "    .sortBy(lambda pair: pair[1], ascending=False) \\\n",
    "    .take(5)\n",
    "\n",
    "for condition, count in top_conditions_rdd:\n",
    "    print(condition, count)"
   ]
  },
  {
   "cell_type": "markdown",
   "metadata": {
    "application/vnd.databricks.v1+cell": {
     "cellMetadata": {},
     "inputWidgets": {},
     "nuid": "9a8ed981-e7b5-4027-8877-14aa74e44fd6",
     "showTitle": false,
     "title": ""
    }
   },
   "source": [
    "10 sponsors"
   ]
  },
  {
   "cell_type": "code",
   "execution_count": 0,
   "metadata": {
    "application/vnd.databricks.v1+cell": {
     "cellMetadata": {
      "byteLimit": 2048000,
      "rowLimit": 10000
     },
     "inputWidgets": {},
     "nuid": "977ed4da-6c4f-4736-b337-d3d577d119f2",
     "showTitle": false,
     "title": ""
    }
   },
   "outputs": [
    {
     "output_type": "stream",
     "name": "stdout",
     "output_type": "stream",
     "text": [
      "[(None, 95209), ('University Hospital', 8363), ('University of California', 4100), ('Assiut University', 2913), ('Cairo University', 2570), ('Assistance Publique - Hôpitaux de Paris', 2539), ('Mayo Clinic', 2328), ('National Cancer Institute (NCI)', 2325), ('M.D. Anderson Cancer Center', 2181), ('Massachusetts General Hospital', 1979)]\n"
     ]
    }
   ],
   "source": [
    "pharma_companies_rdd = set(pharma_df.rdd.map(lambda x: x.Parent_Company).collect())\n",
    "top_sponsors_rdd = clinicaltrial_2023_df.rdd.filter(lambda x: x.Sponsor not in pharma_companies_rdd).map(lambda x: (x.Sponsor, 1)).reduceByKey(lambda x, y: x + y).sortBy(lambda x: x[1], ascending=False).take(10)\n",
    "print(top_sponsors_rdd)"
   ]
  },
  {
   "cell_type": "markdown",
   "metadata": {
    "application/vnd.databricks.v1+cell": {
     "cellMetadata": {},
     "inputWidgets": {},
     "nuid": "6e8b70e2-6921-4485-adcb-64a80090023e",
     "showTitle": false,
     "title": ""
    }
   },
   "source": [
    "Plot no. of completed studies for each month in 2023"
   ]
  },
  {
   "cell_type": "code",
   "execution_count": 0,
   "metadata": {
    "application/vnd.databricks.v1+cell": {
     "cellMetadata": {
      "byteLimit": 2048000,
      "rowLimit": 10000
     },
     "inputWidgets": {},
     "nuid": "e03a1c83-e46c-4f12-ba8c-b5e6eb21aefb",
     "showTitle": false,
     "title": ""
    }
   },
   "outputs": [],
   "source": [
    "from pyspark.sql import SparkSession\n",
    "from pyspark.sql.functions import to_date, month, year\n",
    "import matplotlib.pyplot as plt\n",
    "import pandas as pd\n"
   ]
  },
  {
   "cell_type": "code",
   "execution_count": 0,
   "metadata": {
    "application/vnd.databricks.v1+cell": {
     "cellMetadata": {
      "byteLimit": 2048000,
      "rowLimit": 10000
     },
     "inputWidgets": {},
     "nuid": "7665ac8c-fc07-420f-bee8-09add17f27b4",
     "showTitle": false,
     "title": ""
    }
   },
   "outputs": [],
   "source": [
    "spark = SparkSession.builder \\\n",
    "    .appName(\"Clinical Trials Completion Analysis\") \\\n",
    "    .getOrCreate()\n"
   ]
  },
  {
   "cell_type": "code",
   "execution_count": 0,
   "metadata": {
    "application/vnd.databricks.v1+cell": {
     "cellMetadata": {
      "byteLimit": 2048000,
      "rowLimit": 10000
     },
     "inputWidgets": {},
     "nuid": "16532f5d-bec1-4f83-8fdc-18c73dbc45dd",
     "showTitle": false,
     "title": ""
    }
   },
   "outputs": [
    {
     "output_type": "stream",
     "name": "stdout",
     "output_type": "stream",
     "text": [
      "[('January', 1294), ('February', 1046), ('March', 1471), ('April', 1170), ('May', 1287), ('June', 1789), ('July', 1375), ('August', 1346), ('September', 1432), ('October', 1313), ('November', 1150), ('December', 4666)]\n"
     ]
    }
   ],
   "source": [
    "from pyspark.sql.functions import col\n",
    "import calendar\n",
    "\n",
    "# A dictionary to convert month numbers to month names, while maintaining a sortable index\n",
    "month_index_name_map = {str(i).zfill(2): (i, calendar.month_name[i]) for i in range(1, 13)}\n",
    "\n",
    "# Filter to ensure there is a date and it starts with '2023'\n",
    "completed_studies_rdd = clinicaltrial_2023_df \\\n",
    "    .filter(col(\"Completion\").isNotNull() & col(\"Completion\").startswith(\"2023\")) \\\n",
    "    .rdd \\\n",
    "    .map(lambda x: (x.Completion[:7], 1)) \\\n",
    "    .reduceByKey(lambda x, y: x + y) \\\n",
    "    .map(lambda x: (month_index_name_map[x[0][5:]], x[1])) \\\n",
    "    .sortBy(lambda x: x[0][0]) \\\n",
    "    .map(lambda x: (x[0][1], x[1]))  # This step converts tuple indexes back to month names\n",
    "\n",
    "# Collect and print results\n",
    "print(completed_studies_rdd.collect())\n"
   ]
  },
  {
   "cell_type": "code",
   "execution_count": 0,
   "metadata": {
    "application/vnd.databricks.v1+cell": {
     "cellMetadata": {
      "byteLimit": 2048000,
      "rowLimit": 10000
     },
     "inputWidgets": {},
     "nuid": "898085f8-962c-4b51-bfef-f6d184e483f1",
     "showTitle": false,
     "title": ""
    }
   },
   "outputs": [
    {
     "output_type": "display_data",
     "data": {
      "image/png": "[encoded data removed]",
      "text/plain": [
       "<Figure size 1000x600 with 1 Axes>"
      ]
     },
     "metadata": {},
     "output_type": "display_data"
    }
   ],
   "source": [
    "import matplotlib.pyplot as plt\n",
    "from pyspark.sql.functions import col\n",
    "import calendar\n",
    "\n",
    "# Dictionary to convert month numbers to month names, maintaining a sortable index\n",
    "month_index_name_map = {str(i).zfill(2): (i, calendar.month_name[i]) for i in range(1, 13)}\n",
    "\n",
    "# Filter and transform data in the RDD\n",
    "completed_studies_rdd = clinicaltrial_2023_df \\\n",
    "    .filter(col(\"Completion\").isNotNull() & col(\"Completion\").startswith(\"2023\")) \\\n",
    "    .rdd \\\n",
    "    .map(lambda x: (x.Completion[:7], 1)) \\\n",
    "    .reduceByKey(lambda x, y: x + y) \\\n",
    "    .map(lambda x: (month_index_name_map[x[0][5:]], x[1])) \\\n",
    "    .sortBy(lambda x: x[0][0]) \\\n",
    "    .map(lambda x: (x[0][1], x[1])) \\\n",
    "    .collect()  # Collecting data for visualization\n",
    "\n",
    "# Unpacking the results for plotting\n",
    "months, counts = zip(*completed_studies_rdd)\n",
    "\n",
    "# Creating the bar chart\n",
    "plt.figure(figsize=(10, 6))\n",
    "plt.bar(months, counts, color='skyblue')\n",
    "plt.title('Completed Clinical Studies Per Month in 2023')\n",
    "plt.xlabel('Month')\n",
    "plt.ylabel('Number of Completed Studies')\n",
    "plt.xticks(rotation=45)  # Rotate month names for better visibility\n",
    "plt.tight_layout()  # Adjust layout to make room for rotated month labels\n",
    "plt.show()\n"
   ]
  },
  {
   "cell_type": "code",
   "execution_count": 0,
   "metadata": {
    "application/vnd.databricks.v1+cell": {
     "cellMetadata": {},
     "inputWidgets": {},
     "nuid": "f0fff237-43df-402c-bcda-121a2f6439fb",
     "showTitle": false,
     "title": ""
    }
   },
   "outputs": [],
   "source": []
  }
 ],
 "metadata": {
  "application/vnd.databricks.v1+notebook": {
   "dashboards": [],
   "language": "python",
   "notebookMetadata": {
    "pythonIndentUnit": 4
   },
   "notebookName": "RDD Implementation 14:40:14",
   "widgets": {}
  }
 },
 "nbformat": 4,
 "nbformat_minor": 0
}
