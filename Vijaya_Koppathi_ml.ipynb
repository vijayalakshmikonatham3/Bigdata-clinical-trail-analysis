{
 "cells": [
  {
   "cell_type": "markdown",
   "metadata": {
    "application/vnd.databricks.v1+cell": {
     "cellMetadata": {
      "byteLimit": 2048000,
      "rowLimit": 10000
     },
     "inputWidgets": {},
     "nuid": "865f9481-73f5-4ba8-ac70-eb796bb96ce8",
     "showTitle": false,
     "title": ""
    }
   },
   "source": [
    "Loading the Dtaset into a Dataframe"
   ]
  },
  {
   "cell_type": "code",
   "execution_count": 0,
   "metadata": {
    "application/vnd.databricks.v1+cell": {
     "cellMetadata": {
      "byteLimit": 2048000,
      "rowLimit": 10000
     },
     "inputWidgets": {},
     "nuid": "a520b810-1054-4d5a-995a-6b040664e6dc",
     "showTitle": false,
     "title": ""
    }
   },
   "outputs": [
    {
     "output_type": "execute_result",
     "data": {
      "text/plain": [
       "[FileInfo(path='dbfs:/FileStore/tables/Occupancy_Detection_Data.csv', name='Occupancy_Detection_Data.csv', size=50968, modificationTime=1709127367000),\n",
       " FileInfo(path='dbfs:/FileStore/tables/account-models/', name='account-models/', size=0, modificationTime=0),\n",
       " FileInfo(path='dbfs:/FileStore/tables/accounts/', name='accounts/', size=0, modificationTime=0),\n",
       " FileInfo(path='dbfs:/FileStore/tables/accounts.zip', name='accounts.zip', size=5297592, modificationTime=1706713008000),\n",
       " FileInfo(path='dbfs:/FileStore/tables/activations/', name='activations/', size=0, modificationTime=0),\n",
       " FileInfo(path='dbfs:/FileStore/tables/activations.zip', name='activations.zip', size=8411369, modificationTime=1706709062000),\n",
       " FileInfo(path='dbfs:/FileStore/tables/clinicaltrial_2020.csv/', name='clinicaltrial_2020.csv/', size=0, modificationTime=0),\n",
       " FileInfo(path='dbfs:/FileStore/tables/clinicaltrial_2020.zip', name='clinicaltrial_2020.zip', size=10599182, modificationTime=1713448318000),\n",
       " FileInfo(path='dbfs:/FileStore/tables/clinicaltrial_2021.csv/', name='clinicaltrial_2021.csv/', size=0, modificationTime=0),\n",
       " FileInfo(path='dbfs:/FileStore/tables/clinicaltrial_2021.zip', name='clinicaltrial_2021.zip', size=11508457, modificationTime=1713448255000),\n",
       " FileInfo(path='dbfs:/FileStore/tables/clinicaltrial_2023/', name='clinicaltrial_2023/', size=0, modificationTime=0),\n",
       " FileInfo(path='dbfs:/FileStore/tables/clinicaltrial_2023-1.csv', name='clinicaltrial_2023-1.csv', size=235575010, modificationTime=1714477484000),\n",
       " FileInfo(path='dbfs:/FileStore/tables/clinicaltrial_2023-2.csv', name='clinicaltrial_2023-2.csv', size=235575010, modificationTime=1714502218000),\n",
       " FileInfo(path='dbfs:/FileStore/tables/clinicaltrial_2023.csv/', name='clinicaltrial_2023.csv/', size=0, modificationTime=0),\n",
       " FileInfo(path='dbfs:/FileStore/tables/clinicaltrial_2023.zip', name='clinicaltrial_2023.zip', size=57166668, modificationTime=1714476695000),\n",
       " FileInfo(path='dbfs:/FileStore/tables/flood.zip', name='flood.zip', size=52053, modificationTime=1707919987000),\n",
       " FileInfo(path='dbfs:/FileStore/tables/iotstream.zip', name='iotstream.zip', size=43891, modificationTime=1708522683000),\n",
       " FileInfo(path='dbfs:/FileStore/tables/logs/', name='logs/', size=0, modificationTime=0),\n",
       " FileInfo(path='dbfs:/FileStore/tables/logs.zip', name='logs.zip', size=18168065, modificationTime=1706713034000),\n",
       " FileInfo(path='dbfs:/FileStore/tables/movies.csv', name='movies.csv', size=494431, modificationTime=1709731314000),\n",
       " FileInfo(path='dbfs:/FileStore/tables/myratings.csv', name='myratings.csv', size=10683, modificationTime=1709732549000),\n",
       " FileInfo(path='dbfs:/FileStore/tables/myratings_1_-1.csv', name='myratings_1_-1.csv', size=10683, modificationTime=1709732372000),\n",
       " FileInfo(path='dbfs:/FileStore/tables/myratings_1_-2.csv', name='myratings_1_-2.csv', size=10683, modificationTime=1709732460000),\n",
       " FileInfo(path='dbfs:/FileStore/tables/myratings_1_.csv', name='myratings_1_.csv', size=10683, modificationTime=1709731314000),\n",
       " FileInfo(path='dbfs:/FileStore/tables/pharma-1.csv', name='pharma-1.csv', size=678999, modificationTime=1714477590000),\n",
       " FileInfo(path='dbfs:/FileStore/tables/pharma-2.csv', name='pharma-2.csv', size=678999, modificationTime=1714477755000),\n",
       " FileInfo(path='dbfs:/FileStore/tables/pharma.csv/', name='pharma.csv/', size=0, modificationTime=0),\n",
       " FileInfo(path='dbfs:/FileStore/tables/pharma.zip', name='pharma.zip', size=109982, modificationTime=1714476707000),\n",
       " FileInfo(path='dbfs:/FileStore/tables/ratings.csv', name='ratings.csv', size=2483723, modificationTime=1709731314000),\n",
       " FileInfo(path='dbfs:/FileStore/tables/steam_200k.csv', name='steam_200k.csv', size=8059447, modificationTime=1714560038000),\n",
       " FileInfo(path='dbfs:/FileStore/tables/test-1.json', name='test-1.json', size=17958, modificationTime=1706105406000),\n",
       " FileInfo(path='dbfs:/FileStore/tables/test-2.json', name='test-2.json', size=17958, modificationTime=1706105642000),\n",
       " FileInfo(path='dbfs:/FileStore/tables/test.json', name='test.json', size=17958, modificationTime=1706102959000),\n",
       " FileInfo(path='dbfs:/FileStore/tables/webpage/', name='webpage/', size=0, modificationTime=0),\n",
       " FileInfo(path='dbfs:/FileStore/tables/webpage.zip', name='webpage.zip', size=1582, modificationTime=1707312161000)]"
      ]
     },
     "execution_count": 8,
     "metadata": {},
     "output_type": "execute_result"
    }
   ],
   "source": [
    "dbutils.fs.ls(\"/FileStore/tables/\")"
   ]
  },
  {
   "cell_type": "code",
   "execution_count": 0,
   "metadata": {
    "application/vnd.databricks.v1+cell": {
     "cellMetadata": {
      "byteLimit": 2048000,
      "rowLimit": 10000
     },
     "inputWidgets": {},
     "nuid": "9ec34f50-0441-4ace-96d0-6e984dc6b868",
     "showTitle": false,
     "title": ""
    }
   },
   "outputs": [
    {
     "output_type": "execute_result",
     "data": {
      "text/plain": [
       "True"
      ]
     },
     "execution_count": 9,
     "metadata": {},
     "output_type": "execute_result"
    }
   ],
   "source": [
    "dbutils.fs.cp(\"/FileStore/tables/steam_200k.csv\", \"file:/tmp\")"
   ]
  },
  {
   "cell_type": "code",
   "execution_count": 0,
   "metadata": {
    "application/vnd.databricks.v1+cell": {
     "cellMetadata": {
      "byteLimit": 2048000,
      "rowLimit": 10000
     },
     "inputWidgets": {},
     "nuid": "806a2fcb-1597-40ff-854c-fbb82e13abba",
     "showTitle": false,
     "title": ""
    }
   },
   "outputs": [
    {
     "output_type": "stream",
     "name": "stdout",
     "output_type": "stream",
     "text": [
      "/tmp/steam_200k.csv\n"
     ]
    }
   ],
   "source": [
    "%sh\n",
    "ls /tmp/steam_200k.csv "
   ]
  },
  {
   "cell_type": "code",
   "execution_count": 0,
   "metadata": {
    "application/vnd.databricks.v1+cell": {
     "cellMetadata": {
      "byteLimit": 2048000,
      "rowLimit": 10000
     },
     "inputWidgets": {},
     "nuid": "3bb84a47-a9f8-44cc-b96e-c488c263a284",
     "showTitle": false,
     "title": ""
    }
   },
   "outputs": [
    {
     "output_type": "execute_result",
     "data": {
      "text/plain": [
       "True"
      ]
     },
     "execution_count": 11,
     "metadata": {},
     "output_type": "execute_result"
    }
   ],
   "source": [
    "dbutils.fs.mv(\"file:/tmp/steam_200k.csv\", \"/FileStore/tables/steam_200k.csv\", True)"
   ]
  },
  {
   "cell_type": "code",
   "execution_count": 0,
   "metadata": {
    "application/vnd.databricks.v1+cell": {
     "cellMetadata": {
      "byteLimit": 2048000,
      "rowLimit": 10000
     },
     "inputWidgets": {},
     "nuid": "ddd4ac9b-87bc-4378-9cd0-90e65ff33eb2",
     "showTitle": false,
     "title": ""
    }
   },
   "outputs": [
    {
     "output_type": "execute_result",
     "data": {
      "text/plain": [
       "[FileInfo(path='dbfs:/FileStore/tables/steam_200k.csv', name='steam_200k.csv', size=8059447, modificationTime=1714560061000)]"
      ]
     },
     "execution_count": 12,
     "metadata": {},
     "output_type": "execute_result"
    }
   ],
   "source": [
    "dbutils.fs.ls(\"FileStore/tables/steam_200k.csv/\")"
   ]
  },
  {
   "cell_type": "markdown",
   "metadata": {
    "application/vnd.databricks.v1+cell": {
     "cellMetadata": {
      "byteLimit": 2048000,
      "rowLimit": 10000
     },
     "inputWidgets": {},
     "nuid": "364bcb7e-82ed-4c19-9c54-2a901b6801e8",
     "showTitle": false,
     "title": ""
    }
   },
   "source": [
    "setting up the spark session"
   ]
  },
  {
   "cell_type": "code",
   "execution_count": 0,
   "metadata": {
    "application/vnd.databricks.v1+cell": {
     "cellMetadata": {
      "byteLimit": 2048000,
      "rowLimit": 10000
     },
     "inputWidgets": {},
     "nuid": "989b86d5-0f30-4723-9137-87dd7e0382ae",
     "showTitle": false,
     "title": ""
    }
   },
   "outputs": [],
   "source": [
    "from pyspark.sql import SparkSession\n",
    "\n",
    "# Create a Spark session\n",
    "spark = SparkSession.builder \\\n",
    "    .appName(\"Steam Dataset Analysis\") \\\n",
    "    .getOrCreate()\n"
   ]
  },
  {
   "cell_type": "markdown",
   "metadata": {
    "application/vnd.databricks.v1+cell": {
     "cellMetadata": {
      "byteLimit": 2048000,
      "rowLimit": 10000
     },
     "inputWidgets": {},
     "nuid": "1a076957-976b-4762-89a0-c6023b3cedd2",
     "showTitle": false,
     "title": ""
    }
   },
   "source": [
    "Loading the Dataset"
   ]
  },
  {
   "cell_type": "code",
   "execution_count": 0,
   "metadata": {
    "application/vnd.databricks.v1+cell": {
     "cellMetadata": {
      "byteLimit": 2048000,
      "rowLimit": 10000
     },
     "inputWidgets": {},
     "nuid": "3fefaaff-531c-428f-aa1b-bae1e61c27f7",
     "showTitle": false,
     "title": ""
    }
   },
   "outputs": [
    {
     "output_type": "stream",
     "name": "stdout",
     "output_type": "stream",
     "text": [
      "+---------+--------------------+--------+-----+\n|   UserID|                Game|Behavior|Value|\n+---------+--------------------+--------+-----+\n|151603712|The Elder Scrolls...|purchase|  1.0|\n|151603712|The Elder Scrolls...|    play|273.0|\n|151603712|           Fallout 4|purchase|  1.0|\n|151603712|           Fallout 4|    play| 87.0|\n|151603712|               Spore|purchase|  1.0|\n+---------+--------------------+--------+-----+\nonly showing top 5 rows\n\n"
     ]
    }
   ],
   "source": [
    "file_path = \"/FileStore/tables/steam_200k.csv\"\n",
    "\n",
    "# Load the dataset\n",
    "steam_data = spark.read.csv(file_path, inferSchema=True, header=False).toDF(\"UserID\", \"Game\", \"Behavior\", \"Value\")\n",
    "\n",
    "# Show the first few entries of the DataFrame to confirm loading\n",
    "steam_data.show(5)\n"
   ]
  },
  {
   "cell_type": "markdown",
   "metadata": {
    "application/vnd.databricks.v1+cell": {
     "cellMetadata": {
      "byteLimit": 2048000,
      "rowLimit": 10000
     },
     "inputWidgets": {},
     "nuid": "2abf1ce9-1910-4dfb-ad4a-4adefa54c7f5",
     "showTitle": false,
     "title": ""
    }
   },
   "source": [
    "Initial Exploratory Analysis"
   ]
  },
  {
   "cell_type": "code",
   "execution_count": 0,
   "metadata": {
    "application/vnd.databricks.v1+cell": {
     "cellMetadata": {
      "byteLimit": 2048000,
      "rowLimit": 10000
     },
     "inputWidgets": {},
     "nuid": "9b76dd04-b7e1-4680-bbe0-5825b62182b4",
     "showTitle": false,
     "title": ""
    }
   },
   "outputs": [
    {
     "output_type": "stream",
     "name": "stdout",
     "output_type": "stream",
     "text": [
      "+-------+-------------------+----------------+--------+------------------+\n|summary|             UserID|            Game|Behavior|             Value|\n+-------+-------------------+----------------+--------+------------------+\n|  count|             200000|          200000|  200000|            200000|\n|   mean|  1.0365586594664E8|           140.0|    NULL|17.874383999999914|\n| stddev|7.208073512913968E7|             0.0|    NULL|138.05695165086792|\n|    min|               5250|     007 Legends|    play|               0.1|\n|    max|          309903146|theHunter Primal|purchase|           11754.0|\n+-------+-------------------+----------------+--------+------------------+\n\n"
     ]
    },
    {
     "output_type": "execute_result",
     "data": {
      "text/plain": [
       "5155"
      ]
     },
     "execution_count": 15,
     "metadata": {},
     "output_type": "execute_result"
    }
   ],
   "source": [
    "##########Descriptive Statistics########\n",
    "# Describe the DataFrame to get summary statistics\n",
    "steam_data.describe().show()\n",
    "\n",
    "# Count the distinct number of users and games\n",
    "steam_data.select(\"UserID\").distinct().count()\n",
    "steam_data.select(\"Game\").distinct().count()\n"
   ]
  },
  {
   "cell_type": "code",
   "execution_count": 0,
   "metadata": {
    "application/vnd.databricks.v1+cell": {
     "cellMetadata": {
      "byteLimit": 2048000,
      "rowLimit": 10000
     },
     "inputWidgets": {},
     "nuid": "afc5ea83-18a2-4718-a893-27e8509cbebd",
     "showTitle": false,
     "title": ""
    }
   },
   "outputs": [
    {
     "output_type": "stream",
     "name": "stdout",
     "output_type": "stream",
     "text": [
      "+--------+------+\n|Behavior| count|\n+--------+------+\n|purchase|129511|\n|    play| 70489|\n+--------+------+\n\n"
     ]
    }
   ],
   "source": [
    "#########Behavorial Analysis##########\n",
    "# Analyze behaviors: count how many purchase vs play records are there\n",
    "steam_data.groupBy(\"Behavior\").count().show()\n"
   ]
  },
  {
   "cell_type": "markdown",
   "metadata": {
    "application/vnd.databricks.v1+cell": {
     "cellMetadata": {
      "byteLimit": 2048000,
      "rowLimit": 10000
     },
     "inputWidgets": {},
     "nuid": "e6dbdf75-0ace-4178-b9f2-27e6510a8ec7",
     "showTitle": false,
     "title": ""
    }
   },
   "source": [
    "Data Exploration using Spark SQL"
   ]
  },
  {
   "cell_type": "code",
   "execution_count": 0,
   "metadata": {
    "application/vnd.databricks.v1+cell": {
     "cellMetadata": {
      "byteLimit": 2048000,
      "rowLimit": 10000
     },
     "inputWidgets": {},
     "nuid": "b372c074-26d7-455e-aa5c-3aaf7a00dd2c",
     "showTitle": false,
     "title": ""
    }
   },
   "outputs": [
    {
     "output_type": "stream",
     "name": "stdout",
     "output_type": "stream",
     "text": [
      "+--------+------+\n|Behavior| Count|\n+--------+------+\n|purchase|129511|\n|    play| 70489|\n+--------+------+\n\n"
     ]
    }
   ],
   "source": [
    "steam_data.createOrReplaceTempView(\"steam\")\n",
    "\n",
    "spark.sql(\"\"\"\n",
    "SELECT Behavior, COUNT(*) as Count\n",
    "FROM steam\n",
    "GROUP BY Behavior\n",
    "\"\"\").show()\n"
   ]
  },
  {
   "cell_type": "code",
   "execution_count": 0,
   "metadata": {
    "application/vnd.databricks.v1+cell": {
     "cellMetadata": {
      "byteLimit": 2048000,
      "rowLimit": 10000
     },
     "inputWidgets": {},
     "nuid": "79992988-3525-4139-93b2-4f3e83d0a100",
     "showTitle": false,
     "title": ""
    }
   },
   "outputs": [
    {
     "output_type": "stream",
     "name": "stdout",
     "output_type": "stream",
     "text": [
      "+--------------------+------------------+\n|                Game|        TotalHours|\n+--------------------+------------------+\n|              Dota 2| 981684.5999999999|\n|Counter-Strike Gl...| 322771.6000000001|\n|     Team Fortress 2|173673.30000000005|\n|      Counter-Strike|134261.09999999998|\n|Sid Meier's Civil...| 99821.30000000002|\n|Counter-Strike So...| 96075.50000000003|\n|The Elder Scrolls...|           70889.3|\n|         Garry's Mod|           49725.3|\n|Call of Duty Mode...|42009.899999999994|\n|       Left 4 Dead 2|33596.700000000004|\n+--------------------+------------------+\n\n"
     ]
    }
   ],
   "source": [
    "#########Investigate Top Games#######\n",
    "# Query top 10 most played games by total hours played\n",
    "spark.sql(\"\"\"\n",
    "SELECT Game, SUM(Value) as TotalHours\n",
    "FROM steam\n",
    "WHERE Behavior = 'play'\n",
    "GROUP BY Game\n",
    "ORDER BY TotalHours DESC\n",
    "LIMIT 10\n",
    "\"\"\").show()\n"
   ]
  },
  {
   "cell_type": "markdown",
   "metadata": {
    "application/vnd.databricks.v1+cell": {
     "cellMetadata": {
      "byteLimit": 2048000,
      "rowLimit": 10000
     },
     "inputWidgets": {},
     "nuid": "a17dcbef-5ac2-47c7-be3b-694181bcf463",
     "showTitle": false,
     "title": ""
    }
   },
   "source": [
    "Visualisation\n"
   ]
  },
  {
   "cell_type": "code",
   "execution_count": 0,
   "metadata": {
    "application/vnd.databricks.v1+cell": {
     "cellMetadata": {
      "byteLimit": 2048000,
      "rowLimit": 10000
     },
     "inputWidgets": {},
     "nuid": "bd80dd3a-cea4-4e32-843f-e701e8c319bc",
     "showTitle": false,
     "title": ""
    }
   },
   "outputs": [
    {
     "output_type": "display_data",
     "data": {
      "text/html": [
       "<style scoped>\n",
       "  .table-result-container {\n",
       "    max-height: 300px;\n",
       "    overflow: auto;\n",
       "  }\n",
       "  table, th, td {\n",
       "    border: 1px solid black;\n",
       "    border-collapse: collapse;\n",
       "  }\n",
       "  th, td {\n",
       "    padding: 5px;\n",
       "  }\n",
       "  th {\n",
       "    text-align: left;\n",
       "  }\n",
       "</style><div class='table-result-container'><table class='table-result'><thead style='background-color: white'><tr><th>Game</th><th>TotalHours</th></tr></thead><tbody><tr><td>Dota 2</td><td>981684.5999999999</td></tr><tr><td>Counter-Strike Global Offensive</td><td>322771.6000000001</td></tr><tr><td>Team Fortress 2</td><td>173673.30000000005</td></tr><tr><td>Counter-Strike</td><td>134261.09999999998</td></tr><tr><td>Sid Meier's Civilization V</td><td>99821.30000000002</td></tr><tr><td>Counter-Strike Source</td><td>96075.50000000003</td></tr><tr><td>The Elder Scrolls V Skyrim</td><td>70889.3</td></tr><tr><td>Garry's Mod</td><td>49725.3</td></tr><tr><td>Call of Duty Modern Warfare 2 - Multiplayer</td><td>42009.899999999994</td></tr><tr><td>Left 4 Dead 2</td><td>33596.700000000004</td></tr></tbody></table></div>"
      ]
     },
     "metadata": {
      "application/vnd.databricks.v1+output": {
       "addedWidgets": {},
       "aggData": [],
       "aggError": "",
       "aggOverflow": false,
       "aggSchema": [],
       "aggSeriesLimitReached": false,
       "aggType": "",
       "arguments": {},
       "columnCustomDisplayInfos": {},
       "data": [
        [
         "Dota 2",
         981684.5999999999
        ],
        [
         "Counter-Strike Global Offensive",
         322771.6000000001
        ],
        [
         "Team Fortress 2",
         173673.30000000005
        ],
        [
         "Counter-Strike",
         134261.09999999998
        ],
        [
         "Sid Meier's Civilization V",
         99821.30000000002
        ],
        [
         "Counter-Strike Source",
         96075.50000000003
        ],
        [
         "The Elder Scrolls V Skyrim",
         70889.3
        ],
        [
         "Garry's Mod",
         49725.3
        ],
        [
         "Call of Duty Modern Warfare 2 - Multiplayer",
         42009.899999999994
        ],
        [
         "Left 4 Dead 2",
         33596.700000000004
        ]
       ],
       "datasetInfos": [],
       "dbfsResultPath": null,
       "isJsonSchema": true,
       "metadata": {},
       "overflow": false,
       "plotOptions": {
        "customPlotOptions": {},
        "displayType": "table",
        "pivotAggregation": null,
        "pivotColumns": null,
        "xColumns": null,
        "yColumns": null
       },
       "removedWidgets": [],
       "schema": [
        {
         "metadata": "{}",
         "name": "Game",
         "type": "\"string\""
        },
        {
         "metadata": "{}",
         "name": "TotalHours",
         "type": "\"double\""
        }
       ],
       "type": "table"
      }
     },
     "output_type": "display_data"
    },
    {
     "output_type": "display_data",
     "data": {
      "text/plain": [
       "Databricks visualization. Run in Databricks to view."
      ]
     },
     "metadata": {
      "application/vnd.databricks.v1.subcommand+json": {
       "baseErrorDetails": null,
       "bindings": {},
       "collapsed": false,
       "command": "# Example Databricks visualization after running a query\nresult_df = spark.sql(\"\"\"\nSELECT Game, SUM(Value) as TotalHours\nFROM steam\nWHERE Behavior = 'play'\nGROUP BY Game\nORDER BY TotalHours DESC\nLIMIT 10\n\"\"\")\ndisplay(result_df)\n",
       "commandTitle": "Visualization 1",
       "commandType": "auto",
       "commandVersion": 0,
       "commentThread": [],
       "commentsVisible": false,
       "contentSha256Hex": null,
       "customPlotOptions": {
        "plotlyBar": [
         {
          "key": "grouped",
          "value": true
         },
         {
          "key": "stacked",
          "value": false
         },
         {
          "key": "100_stacked",
          "value": false
         }
        ]
       },
       "datasetPreviewNameToCmdIdMap": {},
       "diffDeletes": [],
       "diffInserts": [],
       "displayType": "plotlyBar",
       "error": null,
       "errorDetails": null,
       "errorSummary": null,
       "errorTraceType": null,
       "finishTime": 0,
       "globalVars": {},
       "guid": "",
       "height": "auto",
       "hideCommandCode": false,
       "hideCommandResult": false,
       "iPythonMetadata": null,
       "inputWidgets": {},
       "isLockedInExamMode": false,
       "latestUser": "a user",
       "latestUserId": null,
       "listResultMetadata": null,
       "metadata": {
        "byteLimit": 2048000,
        "rowLimit": 10000
       },
       "nuid": "2ee05d9d-8e7a-4a38-979c-bf969d8038ce",
       "origId": 0,
       "parentHierarchy": [],
       "pivotAggregation": "sum",
       "pivotColumns": [],
       "position": 3.998016357421875,
       "resultDbfsErrorMessage": null,
       "resultDbfsStatus": "INLINED_IN_TREE",
       "results": null,
       "showCommandTitle": false,
       "startTime": 0,
       "state": "finished",
       "streamStates": {},
       "subcommandOptions": null,
       "submitTime": 0,
       "subtype": "tableResultSubCmd.visualization",
       "tableResultIndex": 0,
       "useConsistentColors": false,
       "version": "CommandV1",
       "width": "auto",
       "workflows": [],
       "xColumns": [
        "Game"
       ],
       "yColumns": [
        "TotalHours"
       ]
      }
     },
     "output_type": "display_data"
    }
   ],
   "source": [
    "# Example Databricks visualization after running a query\n",
    "result_df = spark.sql(\"\"\"\n",
    "SELECT Game, SUM(Value) as TotalHours\n",
    "FROM steam\n",
    "WHERE Behavior = 'play'\n",
    "GROUP BY Game\n",
    "ORDER BY TotalHours DESC\n",
    "LIMIT 10\n",
    "\"\"\")\n",
    "display(result_df)\n"
   ]
  },
  {
   "cell_type": "code",
   "execution_count": 0,
   "metadata": {
    "application/vnd.databricks.v1+cell": {
     "cellMetadata": {
      "byteLimit": 2048000,
      "rowLimit": 10000
     },
     "inputWidgets": {},
     "nuid": "887fc2ab-a89e-4a27-bcfd-339374921685",
     "showTitle": false,
     "title": ""
    }
   },
   "outputs": [
    {
     "output_type": "display_data",
     "data": {
      "image/png": "[encoded data removed]",
      "text/plain": [
       "<Figure size 1000x600 with 1 Axes>"
      ]
     },
     "metadata": {},
     "output_type": "display_data"
    }
   ],
   "source": [
    "import pandas as pd\n",
    "import matplotlib.pyplot as plt\n",
    "\n",
    "# Convert Spark DataFrame to Pandas DataFrame for visualization\n",
    "result_pd = result_df.toPandas()\n",
    "\n",
    "# Creating a bar plot\n",
    "plt.figure(figsize=(10, 6))\n",
    "plt.bar(result_pd['Game'], result_pd['TotalHours'], color='blue')\n",
    "plt.xlabel('Game')\n",
    "plt.ylabel('Total Hours Played')\n",
    "plt.title('Top 10 Most Played Games')\n",
    "plt.xticks(rotation=45)\n",
    "plt.show()\n"
   ]
  },
  {
   "cell_type": "markdown",
   "metadata": {
    "application/vnd.databricks.v1+cell": {
     "cellMetadata": {
      "byteLimit": 2048000,
      "rowLimit": 10000
     },
     "inputWidgets": {},
     "nuid": "8d33f240-bd19-4e4e-b1c7-f588463356d6",
     "showTitle": false,
     "title": ""
    }
   },
   "source": [
    "Task 2 Data preprocessing"
   ]
  },
  {
   "cell_type": "markdown",
   "metadata": {
    "application/vnd.databricks.v1+cell": {
     "cellMetadata": {
      "byteLimit": 2048000,
      "rowLimit": 10000
     },
     "inputWidgets": {},
     "nuid": "264f75f8-8fc6-42d8-820e-ef8eb8d905c0",
     "showTitle": false,
     "title": ""
    }
   },
   "source": [
    "Assign Unique integer id"
   ]
  },
  {
   "cell_type": "code",
   "execution_count": 0,
   "metadata": {
    "application/vnd.databricks.v1+cell": {
     "cellMetadata": {
      "byteLimit": 2048000,
      "rowLimit": 10000
     },
     "inputWidgets": {},
     "nuid": "f10d9808-9afd-4412-882c-a519e03fb851",
     "showTitle": false,
     "title": ""
    }
   },
   "outputs": [],
   "source": [
    "from pyspark.sql.functions import monotonically_increasing_id\n",
    "\n",
    "# Add unique integer ID for each game\n",
    "steam_data = steam_data.withColumn(\"GameID\", monotonically_increasing_id()).distinct()"
   ]
  },
  {
   "cell_type": "markdown",
   "metadata": {
    "application/vnd.databricks.v1+cell": {
     "cellMetadata": {
      "byteLimit": 2048000,
      "rowLimit": 10000
     },
     "inputWidgets": {},
     "nuid": "04d5fcf3-4304-4900-b68e-ca79d1fc9184",
     "showTitle": false,
     "title": ""
    }
   },
   "source": [
    "Filter or Transform Data"
   ]
  },
  {
   "cell_type": "code",
   "execution_count": 0,
   "metadata": {
    "application/vnd.databricks.v1+cell": {
     "cellMetadata": {
      "byteLimit": 2048000,
      "rowLimit": 10000
     },
     "inputWidgets": {},
     "nuid": "0b72fc79-9265-4cac-a242-4339b56b6bae",
     "showTitle": false,
     "title": ""
    }
   },
   "outputs": [],
   "source": [
    "play_data = steam_data.filter(steam_data.Behavior == \"play\").select(\"UserID\", \"GameID\", \"Value\")"
   ]
  },
  {
   "cell_type": "markdown",
   "metadata": {
    "application/vnd.databricks.v1+cell": {
     "cellMetadata": {
      "byteLimit": 2048000,
      "rowLimit": 10000
     },
     "inputWidgets": {},
     "nuid": "35723b7f-ca34-4e6d-b69d-05c66fcfb992",
     "showTitle": false,
     "title": ""
    }
   },
   "source": [
    "Split the Data into training and test"
   ]
  },
  {
   "cell_type": "code",
   "execution_count": 0,
   "metadata": {
    "application/vnd.databricks.v1+cell": {
     "cellMetadata": {
      "byteLimit": 2048000,
      "rowLimit": 10000
     },
     "inputWidgets": {},
     "nuid": "f8ef9d6a-bf63-4cb2-9194-092d8a8b658c",
     "showTitle": false,
     "title": ""
    }
   },
   "outputs": [],
   "source": [
    "(train, test) = play_data.randomSplit([0.8, 0.2])"
   ]
  },
  {
   "cell_type": "markdown",
   "metadata": {
    "application/vnd.databricks.v1+cell": {
     "cellMetadata": {
      "byteLimit": 2048000,
      "rowLimit": 10000
     },
     "inputWidgets": {},
     "nuid": "93c147d3-411b-4fd6-9cae-07e3e42e886a",
     "showTitle": false,
     "title": ""
    }
   },
   "source": [
    "Model Training using ALS"
   ]
  },
  {
   "cell_type": "code",
   "execution_count": 0,
   "metadata": {
    "application/vnd.databricks.v1+cell": {
     "cellMetadata": {
      "byteLimit": 2048000,
      "rowLimit": 10000
     },
     "inputWidgets": {},
     "nuid": "e4d4c7af-b30c-4da9-b18e-89d6d0198228",
     "showTitle": false,
     "title": ""
    }
   },
   "outputs": [],
   "source": [
    "from pyspark.sql.window import Window\n",
    "from pyspark.sql.functions import dense_rank, col\n",
    "\n",
    "# Add a new column 'GameIndex' that will store a unique ID for each game\n",
    "steam_data = steam_data.withColumn(\"GameIndex\", dense_rank().over(Window.orderBy(\"Game\")))\n",
    "\n",
    "# If using 'GameIndex' as 'GameID', ensure the DataFrame is correctly referencing the renamed column\n",
    "play_data = steam_data.filter(steam_data.Behavior == \"play\").select(\"UserID\", col(\"GameIndex\").alias(\"GameID\"), \"Value\")\n",
    "\n",
    "# Split the data into training and test datasets\n",
    "(train, test) = play_data.randomSplit([0.8, 0.2])\n",
    "\n",
    "# Initialize the ALS learner with correct column names\n",
    "from pyspark.ml.recommendation import ALS\n",
    "\n",
    "als = ALS(\n",
    "    userCol=\"UserID\",\n",
    "    itemCol=\"GameID\",\n",
    "    ratingCol=\"Value\",\n",
    "    nonnegative=True,  # Ensure nonnegative factorization\n",
    "    implicitPrefs=False,\n",
    "    rank=10,           # Number of latent factors\n",
    "    maxIter=10,        # Number of iterations\n",
    "    regParam=0.1       # Regularization parameter\n",
    ")\n",
    "\n",
    "# Train the ALS model\n",
    "model = als.fit(train)\n"
   ]
  },
  {
   "cell_type": "markdown",
   "metadata": {
    "application/vnd.databricks.v1+cell": {
     "cellMetadata": {
      "byteLimit": 2048000,
      "rowLimit": 10000
     },
     "inputWidgets": {},
     "nuid": "38c09b42-4e09-43f0-b7c1-bed589f3d80d",
     "showTitle": false,
     "title": ""
    }
   },
   "source": [
    "MODEL EVALUATION"
   ]
  },
  {
   "cell_type": "code",
   "execution_count": 0,
   "metadata": {
    "application/vnd.databricks.v1+cell": {
     "cellMetadata": {
      "byteLimit": 2048000,
      "rowLimit": 10000
     },
     "inputWidgets": {},
     "nuid": "792b0be2-71a5-4858-a02e-93174bbd29c4",
     "showTitle": false,
     "title": ""
    }
   },
   "outputs": [
    {
     "output_type": "stream",
     "name": "stdout",
     "output_type": "stream",
     "text": [
      "Root Mean Square Error (RMSE): 533.8212898785736\n"
     ]
    }
   ],
   "source": [
    "from pyspark.ml.evaluation import RegressionEvaluator\n",
    "\n",
    "# Evaluate the model by computing the RMSE on the test data\n",
    "predictions = model.transform(test)\n",
    "evaluator = RegressionEvaluator(metricName=\"rmse\", labelCol=\"Value\", predictionCol=\"prediction\")\n",
    "\n",
    "# Drop NaN values to avoid RMSE computation issues\n",
    "predictions = predictions.na.drop()\n",
    "rmse = evaluator.evaluate(predictions)\n",
    "print(f\"Root Mean Square Error (RMSE): {rmse}\")\n"
   ]
  },
  {
   "cell_type": "markdown",
   "metadata": {
    "application/vnd.databricks.v1+cell": {
     "cellMetadata": {
      "byteLimit": 2048000,
      "rowLimit": 10000
     },
     "inputWidgets": {},
     "nuid": "fa9b3bba-451f-43ce-9d15-994f3c06b9f8",
     "showTitle": false,
     "title": ""
    }
   },
   "source": [
    "Explore Recommendations"
   ]
  },
  {
   "cell_type": "code",
   "execution_count": 0,
   "metadata": {
    "application/vnd.databricks.v1+cell": {
     "cellMetadata": {
      "byteLimit": 2048000,
      "rowLimit": 10000
     },
     "inputWidgets": {},
     "nuid": "af5cc40d-9617-4d49-8a21-584956fcd51f",
     "showTitle": false,
     "title": ""
    }
   },
   "outputs": [
    {
     "output_type": "stream",
     "name": "stdout",
     "output_type": "stream",
     "text": [
      "+--------+--------------------+\n|  UserID|     recommendations|\n+--------+--------------------+\n|   76767|[{1459, 7615.7393...|\n|  144736|[{1459, 0.5456619...|\n|  229911|[{1459, 3795.8962...|\n|  948368|[{1621, 237.0931}...|\n|  975449|[{1459, 562.80383...|\n| 1268792|[{1459, 2.7283094...|\n| 2531540|[{436, 2217.0862}...|\n| 2753525|[{1459, 4148.2104...|\n| 3450426|[{1761, 207.36818...|\n| 7923954|[{1459, 1.6369855...|\n| 8259307|[{3251, 309.41336...|\n| 8567888|[{1621, 3.7093575...|\n| 8585433|[{1459, 5784.86},...|\n| 8784496|[{1459, 1027.5548...|\n| 8795607|[{1621, 8410.212}...|\n|10595342|[{1459, 7.568566}...|\n|10599862|[{1459, 2937.9375...|\n|11807754|[{1459, 26768.432...|\n|11973378|[{1621, 2.2826817...|\n|15095770|[{1459, 200.63889...|\n+--------+--------------------+\nonly showing top 20 rows\n\n"
     ]
    }
   ],
   "source": [
    "# Generate top 10 game recommendations for a few users\n",
    "user_recs = model.recommendForAllUsers(10)\n",
    "user_recs.show()\n"
   ]
  },
  {
   "cell_type": "markdown",
   "metadata": {
    "application/vnd.databricks.v1+cell": {
     "cellMetadata": {
      "byteLimit": 2048000,
      "rowLimit": 10000
     },
     "inputWidgets": {},
     "nuid": "56cff391-7ef1-4980-8592-1ee13e06e9a8",
     "showTitle": false,
     "title": ""
    }
   },
   "source": [
    "Extra marks"
   ]
  },
  {
   "cell_type": "markdown",
   "metadata": {
    "application/vnd.databricks.v1+cell": {
     "cellMetadata": {
      "byteLimit": 2048000,
      "rowLimit": 10000
     },
     "inputWidgets": {},
     "nuid": "94df3032-102c-4b00-9a97-492793078e0c",
     "showTitle": false,
     "title": ""
    }
   },
   "source": [
    "Training models with different parameters"
   ]
  },
  {
   "cell_type": "markdown",
   "metadata": {
    "application/vnd.databricks.v1+cell": {
     "cellMetadata": {
      "byteLimit": 2048000,
      "rowLimit": 10000
     },
     "inputWidgets": {},
     "nuid": "352f30e3-bcd6-46f4-9a36-e2ccf6469734",
     "showTitle": false,
     "title": ""
    }
   },
   "source": [
    "USING HIGH RANK Hyperparameter"
   ]
  },
  {
   "cell_type": "code",
   "execution_count": 0,
   "metadata": {
    "application/vnd.databricks.v1+cell": {
     "cellMetadata": {
      "byteLimit": 2048000,
      "rowLimit": 10000
     },
     "inputWidgets": {},
     "nuid": "d62dcdf3-586c-4676-ac13-bf509fcbfdb0",
     "showTitle": false,
     "title": ""
    }
   },
   "outputs": [],
   "source": [
    "from pyspark.ml.recommendation import ALS\n",
    "als_high_rank = ALS(\n",
    "    userCol=\"UserID\",\n",
    "    itemCol=\"GameID\",\n",
    "    ratingCol=\"Value\",\n",
    "    nonnegative=True,\n",
    "    rank=50,               \n",
    "    maxIter=10,\n",
    "    regParam=0.01\n",
    ")\n",
    "model_high_rank = als_high_rank.fit(train)"
   ]
  },
  {
   "cell_type": "markdown",
   "metadata": {
    "application/vnd.databricks.v1+cell": {
     "cellMetadata": {
      "byteLimit": 2048000,
      "rowLimit": 10000
     },
     "inputWidgets": {},
     "nuid": "43d7cc4b-411a-45c3-ad29-eb7dff8bfa48",
     "showTitle": false,
     "title": ""
    }
   },
   "source": [
    "using More Iterations and Higher Regularization Hyperparameter"
   ]
  },
  {
   "cell_type": "code",
   "execution_count": 0,
   "metadata": {
    "application/vnd.databricks.v1+cell": {
     "cellMetadata": {
      "byteLimit": 2048000,
      "rowLimit": 10000
     },
     "inputWidgets": {},
     "nuid": "5cb29a9d-c0e7-425f-ac69-7f2a44fab7b9",
     "showTitle": false,
     "title": ""
    }
   },
   "outputs": [],
   "source": [
    "als_more_iter = ALS(\n",
    "    userCol=\"UserID\",\n",
    "    itemCol=\"GameID\",\n",
    "    ratingCol=\"Value\",\n",
    "    nonnegative=True,\n",
    "    rank=10,\n",
    "    maxIter=20,            # Increased number of iterations\n",
    "    regParam=0.1           # Higher regularization to prevent overfitting\n",
    ")\n",
    "model_more_iter = als_more_iter.fit(train)"
   ]
  },
  {
   "cell_type": "markdown",
   "metadata": {
    "application/vnd.databricks.v1+cell": {
     "cellMetadata": {
      "byteLimit": 2048000,
      "rowLimit": 10000
     },
     "inputWidgets": {},
     "nuid": "2482aa3f-0ab6-44fe-b8b9-952dec38b71a",
     "showTitle": false,
     "title": ""
    }
   },
   "source": [
    "using Low regularization hyperparameter"
   ]
  },
  {
   "cell_type": "code",
   "execution_count": 0,
   "metadata": {
    "application/vnd.databricks.v1+cell": {
     "cellMetadata": {
      "byteLimit": 2048000,
      "rowLimit": 10000
     },
     "inputWidgets": {},
     "nuid": "2fe50b44-511a-41a5-99f2-5c2252aa98b9",
     "showTitle": false,
     "title": ""
    }
   },
   "outputs": [],
   "source": [
    "als_low_reg = ALS(\n",
    "    userCol=\"UserID\",\n",
    "    itemCol=\"GameID\",\n",
    "    ratingCol=\"Value\",\n",
    "    nonnegative=True,\n",
    "    rank=10,\n",
    "    maxIter=10,\n",
    "    regParam=0.001         # Lower regularization to allow more fitting flexibility\n",
    ")\n",
    "model_low_reg = als_low_reg.fit(train)"
   ]
  },
  {
   "cell_type": "markdown",
   "metadata": {
    "application/vnd.databricks.v1+cell": {
     "cellMetadata": {
      "byteLimit": 2048000,
      "rowLimit": 10000
     },
     "inputWidgets": {},
     "nuid": "11db5a0c-15d4-4d47-832d-c7aad14c254c",
     "showTitle": false,
     "title": ""
    }
   },
   "source": [
    "Initial Data Explorationa nd visualisation"
   ]
  },
  {
   "cell_type": "markdown",
   "metadata": {
    "application/vnd.databricks.v1+cell": {
     "cellMetadata": {},
     "inputWidgets": {},
     "nuid": "d5767b8f-8d7a-4b0e-95ff-2288eb68e7e6",
     "showTitle": false,
     "title": ""
    }
   },
   "source": [
    "Most frequently purchased games"
   ]
  },
  {
   "cell_type": "code",
   "execution_count": 0,
   "metadata": {
    "application/vnd.databricks.v1+cell": {
     "cellMetadata": {
      "byteLimit": 2048000,
      "rowLimit": 10000
     },
     "inputWidgets": {},
     "nuid": "fae6ca6e-0067-4e1a-b93d-ca4d47cc8d1f",
     "showTitle": false,
     "title": ""
    }
   },
   "outputs": [
    {
     "output_type": "display_data",
     "data": {
      "image/png": "[encoded data removed]",
      "text/plain": [
       "<Figure size 1000x600 with 1 Axes>"
      ]
     },
     "metadata": {},
     "output_type": "display_data"
    }
   ],
   "source": [
    "import matplotlib.pyplot as plt\n",
    "\n",
    "# Aggregate data to find the most frequently purchased games\n",
    "most_purchased_games = steam_data.filter(col('Behavior') == 'purchase') \\\n",
    "    .groupBy('Game').count().orderBy('count', ascending=False).limit(10)\n",
    "\n",
    "# If using local environment, convert to Pandas for visualization\n",
    "purchased_pd = most_purchased_games.toPandas()\n",
    "\n",
    "# Plotting\n",
    "plt.figure(figsize=(10, 6))\n",
    "plt.barh(purchased_pd['Game'], purchased_pd['count'], color='skyblue')\n",
    "plt.xlabel('Number of Purchases')\n",
    "plt.ylabel('Game')\n",
    "plt.title('Top 10 Most Purchased Games')\n",
    "plt.gca().invert_yaxis()\n",
    "plt.show()\n"
   ]
  },
  {
   "cell_type": "markdown",
   "metadata": {
    "application/vnd.databricks.v1+cell": {
     "cellMetadata": {},
     "inputWidgets": {},
     "nuid": "392c988c-db98-4451-a1bf-e5eeedfc3e10",
     "showTitle": false,
     "title": ""
    }
   },
   "source": [
    "games with the highest play total time"
   ]
  },
  {
   "cell_type": "code",
   "execution_count": 0,
   "metadata": {
    "application/vnd.databricks.v1+cell": {
     "cellMetadata": {
      "byteLimit": 2048000,
      "rowLimit": 10000
     },
     "inputWidgets": {},
     "nuid": "f6e89327-63c0-4755-8b5e-ccb9a2770ef6",
     "showTitle": false,
     "title": ""
    }
   },
   "outputs": [
    {
     "output_type": "stream",
     "name": "stdout",
     "output_type": "stream",
     "text": [
      "root\n |-- UserID: integer (nullable = true)\n |-- Game: string (nullable = true)\n |-- Behavior: string (nullable = true)\n |-- Value: double (nullable = true)\n |-- GameID: long (nullable = false)\n |-- GameIndex: integer (nullable = false)\n\n+--------+-----------+--------+-----+----------+---------+\n|  UserID|       Game|Behavior|Value|    GameID|GameIndex|\n+--------+-----------+--------+-----+----------+---------+\n|46055854|007 Legends|    play|  0.7|     63501|        1|\n|46055854|007 Legends|purchase|  1.0|     63500|        1|\n|86055705|  0RBITALIS|    play|  0.3|     59136|        2|\n|93030550|  0RBITALIS|    play|  0.3|8590023557|        2|\n|11940338|  0RBITALIS|purchase|  1.0|8589942431|        2|\n+--------+-----------+--------+-----+----------+---------+\nonly showing top 5 rows\n\n"
     ]
    }
   ],
   "source": [
    "#############checking the data##########3\n",
    "# Print the schema of the DataFrame to check data types\n",
    "steam_data.printSchema()\n",
    "\n",
    "# Show some entries to manually inspect 'Value' for any inconsistencies\n",
    "steam_data.show(5)\n"
   ]
  },
  {
   "cell_type": "code",
   "execution_count": 0,
   "metadata": {
    "application/vnd.databricks.v1+cell": {
     "cellMetadata": {
      "byteLimit": 2048000,
      "rowLimit": 10000
     },
     "inputWidgets": {},
     "nuid": "f1c12111-ceea-4735-93fd-33ceba51ec2e",
     "showTitle": false,
     "title": ""
    }
   },
   "outputs": [
    {
     "output_type": "display_data",
     "data": {
      "image/png": "[encoded data removed]",
      "text/plain": [
       "<Figure size 1000x600 with 1 Axes>"
      ]
     },
     "metadata": {},
     "output_type": "display_data"
    }
   ],
   "source": [
    "from pyspark.sql import SparkSession\n",
    "from pyspark.sql.functions import sum, col\n",
    "\n",
    "# Assuming spark is already configured\n",
    "spark = SparkSession.builder.appName(\"Steam Data Analysis\").getOrCreate()\n",
    "\n",
    "# Dummy data setup (following your structure)\n",
    "data = [\n",
    "    (46055854, \"007 Legends\", \"play\", 0.7, 63501, 1),\n",
    "    (46055854, \"007 Legends\", \"purchase\", 1.0, 63500, 1),\n",
    "    (86055705, \"0RBITALIS\", \"play\", 0.3, 59136, 2),\n",
    "    (93030550, \"0RBITALIS\", \"play\", 0.3, 8590023557, 2),\n",
    "    (11940338, \"0RBITALIS\", \"purchase\", 1.0, 8589942431, 2)\n",
    "]\n",
    "columns = [\"UserID\", \"Game\", \"Behavior\", \"Value\", \"GameID\", \"GameIndex\"]\n",
    "steam_data = spark.createDataFrame(data, schema=columns)\n",
    "\n",
    "# Filter to 'play' behavior and aggregate\n",
    "most_played_games = steam_data.filter(col('Behavior') == 'play') \\\n",
    "    .groupBy('Game').agg(sum('Value').alias('TotalHours')).orderBy('TotalHours', ascending=False).limit(10)\n",
    "\n",
    "# Convert to Pandas DataFrame for visualization\n",
    "played_pd = most_played_games.toPandas()\n",
    "\n",
    "# Plotting using Matplotlib\n",
    "import matplotlib.pyplot as plt\n",
    "\n",
    "plt.figure(figsize=(10, 6))\n",
    "plt.barh(played_pd['Game'], played_pd['TotalHours'], color='lightgreen')\n",
    "plt.xlabel('Total Hours Played')\n",
    "plt.ylabel('Game')\n",
    "plt.title('Top 10 Games by Total Play Time')\n",
    "plt.gca().invert_yaxis()\n",
    "plt.show()\n"
   ]
  },
  {
   "cell_type": "markdown",
   "metadata": {
    "application/vnd.databricks.v1+cell": {
     "cellMetadata": {},
     "inputWidgets": {},
     "nuid": "c4321f5b-7184-4761-87f3-c66aa83022f8",
     "showTitle": false,
     "title": ""
    }
   },
   "source": [
    "Visualisation of Distribution of played hours"
   ]
  },
  {
   "cell_type": "code",
   "execution_count": 0,
   "metadata": {
    "application/vnd.databricks.v1+cell": {
     "cellMetadata": {
      "byteLimit": 2048000,
      "rowLimit": 10000
     },
     "inputWidgets": {},
     "nuid": "0ed682c3-cde1-4500-9341-fea52ff5dd94",
     "showTitle": false,
     "title": ""
    }
   },
   "outputs": [],
   "source": [
    "from pyspark.sql.functions import col\n",
    "\n",
    "# Filtering out the purchase records\n",
    "play_hours_df = steam_data.filter(col('Behavior') == 'play').select('Value')\n"
   ]
  },
  {
   "cell_type": "code",
   "execution_count": 0,
   "metadata": {
    "application/vnd.databricks.v1+cell": {
     "cellMetadata": {
      "byteLimit": 2048000,
      "rowLimit": 10000
     },
     "inputWidgets": {},
     "nuid": "ca64044b-7ca1-4bb5-8b8e-30b3a105d87e",
     "showTitle": false,
     "title": ""
    }
   },
   "outputs": [
    {
     "output_type": "stream",
     "name": "stdout",
     "output_type": "stream",
     "text": [
      "+-------+-----------------+\n|summary|            Value|\n+-------+-----------------+\n|  count|            70489|\n|   mean|48.87806324391008|\n| stddev| 229.335235996813|\n|    min|              0.1|\n|    max|          11754.0|\n+-------+-----------------+\n\n"
     ]
    }
   ],
   "source": [
    "# Getting a statistical summary of play hours\n",
    "play_hours_summary = play_hours_df.describe()\n",
    "play_hours_summary.show()\n"
   ]
  },
  {
   "cell_type": "code",
   "execution_count": 0,
   "metadata": {
    "application/vnd.databricks.v1+cell": {
     "cellMetadata": {
      "byteLimit": 2048000,
      "rowLimit": 10000
     },
     "inputWidgets": {},
     "nuid": "cb3fcc08-c346-4a07-b70d-2f649407358f",
     "showTitle": false,
     "title": ""
    }
   },
   "outputs": [
    {
     "output_type": "display_data",
     "data": {
      "image/png": "[encoded data removed]",
      "text/plain": [
       "<Figure size 1000x600 with 1 Axes>"
      ]
     },
     "metadata": {},
     "output_type": "display_data"
    }
   ],
   "source": [
    "play_hours_list = [row['Value'] for row in play_hours_df.collect()]\n",
    "\n",
    "\n",
    "import matplotlib.pyplot as plt\n",
    "import numpy as np\n",
    "\n",
    "plt.figure(figsize=(10, 6))\n",
    "plt.hist(play_hours_list, bins=30, color='blue', log=True)  # Using log scale on y-axis\n",
    "plt.title('Distribution of Play Hours')\n",
    "plt.xlabel('Hours Played')\n",
    "plt.ylabel('Frequency')\n",
    "plt.show()\n"
   ]
  },
  {
   "cell_type": "markdown",
   "metadata": {
    "application/vnd.databricks.v1+cell": {
     "cellMetadata": {},
     "inputWidgets": {},
     "nuid": "c14bc789-30ed-4841-b539-489b7681c4c3",
     "showTitle": false,
     "title": ""
    }
   },
   "source": [
    "Evaluation of Recommendations"
   ]
  },
  {
   "cell_type": "code",
   "execution_count": 0,
   "metadata": {
    "application/vnd.databricks.v1+cell": {
     "cellMetadata": {
      "byteLimit": 2048000,
      "rowLimit": 10000
     },
     "inputWidgets": {},
     "nuid": "34b9c876-7dba-47c3-a5cf-f641f59f717b",
     "showTitle": false,
     "title": ""
    }
   },
   "outputs": [
    {
     "output_type": "stream",
     "name": "stdout",
     "output_type": "stream",
     "text": [
      "+--------+\n|  UserID|\n+--------+\n|46055854|\n+--------+\n\n+------+---------+\n|GameID|   rating|\n+------+---------+\n|  1761|1159.7812|\n|  2020|1071.3607|\n|  3648| 1032.358|\n|  3251| 952.7469|\n|  1880| 892.6552|\n|   874| 837.2665|\n|  1459| 832.0867|\n|  4113| 810.4708|\n|  3272| 766.7047|\n|  1025|720.95575|\n+------+---------+\n\n"
     ]
    }
   ],
   "source": [
    "# Sample another user with play records\n",
    "user_with_data = steam_data.filter(col(\"Behavior\") == \"play\").select(\"UserID\").distinct().limit(1)\n",
    "user_with_data.show()\n",
    "\n",
    "# Assuming you fetch the UserID like this\n",
    "user_id = user_with_data.collect()[0][\"UserID\"]\n",
    "\n",
    "# Get recommendations for this user\n",
    "specific_user_recs = user_recs.filter(col(\"UserID\") == user_id) \\\n",
    "                              .selectExpr(\"explode(recommendations) as recs\") \\\n",
    "                              .select(\"recs.*\")\n",
    "specific_user_recs.show()\n"
   ]
  },
  {
   "cell_type": "code",
   "execution_count": 0,
   "metadata": {
    "application/vnd.databricks.v1+cell": {
     "cellMetadata": {
      "byteLimit": 2048000,
      "rowLimit": 10000
     },
     "inputWidgets": {},
     "nuid": "8a415500-1bba-4c51-83d5-3d137bdffa39",
     "showTitle": false,
     "title": ""
    }
   },
   "outputs": [
    {
     "output_type": "stream",
     "name": "stdout",
     "output_type": "stream",
     "text": [
      "+--------+-----+\n|  UserID|count|\n+--------+-----+\n|46055854|    1|\n|86055705|    1|\n|93030550|    1|\n+--------+-----+\n\n"
     ]
    }
   ],
   "source": [
    "# Analyze the distribution of play records\n",
    "play_record_distribution = steam_data.filter(col(\"Behavior\") == \"play\") \\\n",
    "                                     .groupBy(\"UserID\").count().orderBy(\"count\", ascending=False)\n",
    "play_record_distribution.show()\n"
   ]
  },
  {
   "cell_type": "markdown",
   "metadata": {
    "application/vnd.databricks.v1+cell": {
     "cellMetadata": {},
     "inputWidgets": {},
     "nuid": "a7a195c1-3fbe-4900-a683-d46a4c89b56f",
     "showTitle": false,
     "title": ""
    }
   },
   "source": [
    "ML Flow Experiment"
   ]
  },
  {
   "cell_type": "code",
   "execution_count": 0,
   "metadata": {
    "application/vnd.databricks.v1+cell": {
     "cellMetadata": {
      "byteLimit": 2048000,
      "rowLimit": 10000
     },
     "inputWidgets": {},
     "nuid": "0926e10c-801d-41b4-9648-51a9cd0b8e63",
     "showTitle": false,
     "title": ""
    }
   },
   "outputs": [],
   "source": [
    "import mlflow\n",
    "import mlflow.spark\n",
    "from pyspark.ml.recommendation import ALS\n",
    "from pyspark.ml.evaluation import RegressionEvaluator\n",
    "from pyspark.sql.session import SparkSession"
   ]
  },
  {
   "cell_type": "code",
   "execution_count": 0,
   "metadata": {
    "application/vnd.databricks.v1+cell": {
     "cellMetadata": {
      "byteLimit": 2048000,
      "rowLimit": 10000
     },
     "inputWidgets": {},
     "nuid": "a2bc2cd7-e258-4332-82ba-938c75cb762b",
     "showTitle": false,
     "title": ""
    }
   },
   "outputs": [
    {
     "output_type": "execute_result",
     "data": {
      "text/plain": [
       "<Experiment: artifact_location='dbfs:/databricks/mlflow-tracking/968228670151795', creation_time=1714576601721, experiment_id='968228670151795', last_update_time=1714576601721, lifecycle_stage='active', name='/Users/v.l.kopparthi@edu.salford.ac.uk/ALS_Model_Experiment', tags={'mlflow.experiment.sourceName': '/Users/v.l.kopparthi@edu.salford.ac.uk/ALS_Model_Experiment',\n",
       " 'mlflow.experimentType': 'MLFLOW_EXPERIMENT',\n",
       " 'mlflow.ownerEmail': 'v.l.kopparthi@edu.salford.ac.uk',\n",
       " 'mlflow.ownerId': '6267631847599401'}>"
      ]
     },
     "execution_count": 13,
     "metadata": {},
     "output_type": "execute_result"
    }
   ],
   "source": [
    "# Set up MLflow to log to a Databricks workspace\n",
    "mlflow.set_experiment('/Users/v.l.kopparthi@edu.salford.ac.uk/ALS_Model_Experiment')"
   ]
  },
  {
   "cell_type": "code",
   "execution_count": 0,
   "metadata": {
    "application/vnd.databricks.v1+cell": {
     "cellMetadata": {
      "byteLimit": 2048000,
      "rowLimit": 10000
     },
     "inputWidgets": {},
     "nuid": "0a97577c-80e4-4641-b0bf-3859973e3bac",
     "showTitle": false,
     "title": ""
    }
   },
   "outputs": [],
   "source": [
    "def train_als(rank, maxIter, regParam, train, test):\n",
    "    with mlflow.start_run():\n",
    "        # Log parameters\n",
    "        mlflow.log_param(\"rank\", rank)\n",
    "        mlflow.log_param(\"maxIter\", maxIter)\n",
    "        mlflow.log_param(\"regParam\", regParam)\n",
    "        \n",
    "        # Create ALS model\n",
    "        als = ALS(rank=rank, maxIter=maxIter, regParam=regParam, userCol=\"UserID\", itemCol=\"GameID\", ratingCol=\"Value\", nonnegative=True)\n",
    "        model = als.fit(train)\n",
    "\n",
    "        # Evaluate the model\n",
    "        predictions = model.transform(test)\n",
    "        evaluator = RegressionEvaluator(metricName=\"rmse\", labelCol=\"Value\", predictionCol=\"prediction\")\n",
    "        rmse = evaluator.evaluate(predictions.na.drop())  # Ensure to drop any NaN predictions\n",
    "        \n",
    "        # Log metrics\n",
    "        mlflow.log_metric(\"rmse\", rmse)\n",
    "        \n",
    "        # Log model\n",
    "        mlflow.spark.log_model(model, \"model\")\n",
    "        \n",
    "        return rmse"
   ]
  },
  {
   "cell_type": "code",
   "execution_count": 0,
   "metadata": {
    "application/vnd.databricks.v1+cell": {
     "cellMetadata": {
      "byteLimit": 2048000,
      "rowLimit": 10000
     },
     "inputWidgets": {},
     "nuid": "489d3019-6e0f-42f9-bc76-b1927994f3d0",
     "showTitle": false,
     "title": ""
    }
   },
   "outputs": [
    {
     "output_type": "stream",
     "name": "stderr",
     "output_type": "stream",
     "text": [
      "2024/05/01 16:18:41 INFO mlflow.spark: Inferring pip requirements by reloading the logged model from the databricks artifact repository, which can be time-consuming. To speed up, explicitly specify the conda_env or pip_requirements when calling log_model().\n2024/05/01 16:19:14 WARNING mlflow.utils.environment: Encountered an unexpected error while inferring pip requirements (model URI: dbfs:/databricks/mlflow-tracking/968228670151795/56667426f86e4525afdeff225b9a45cd/artifacts/model/sparkml, flavor: spark). Fall back to return ['pyspark==3.5.1']. Set logging level to DEBUG to see the full traceback. \n/databricks/python/lib/python3.11/site-packages/_distutils_hack/__init__.py:33: UserWarning: Setuptools is replacing distutils.\n  warnings.warn(\"Setuptools is replacing distutils.\")\n2024/05/01 16:20:09 INFO mlflow.spark: Inferring pip requirements by reloading the logged model from the databricks artifact repository, which can be time-consuming. To speed up, explicitly specify the conda_env or pip_requirements when calling log_model().\n2024/05/01 16:20:42 WARNING mlflow.utils.environment: Encountered an unexpected error while inferring pip requirements (model URI: dbfs:/databricks/mlflow-tracking/968228670151795/c325408b610f4b878e3f8f6f2302c2ac/artifacts/model/sparkml, flavor: spark). Fall back to return ['pyspark==3.5.1']. Set logging level to DEBUG to see the full traceback. \n"
     ]
    }
   ],
   "source": [
    "rmse_scores = []\n",
    "rmse_scores.append(train_als(10, 5, 0.01, train, test))\n",
    "rmse_scores.append(train_als(20, 10, 0.05, train, test))"
   ]
  },
  {
   "cell_type": "code",
   "execution_count": 0,
   "metadata": {
    "application/vnd.databricks.v1+cell": {
     "cellMetadata": {},
     "inputWidgets": {},
     "nuid": "b8001db0-ac79-4f48-adb5-70ffb7cf7a71",
     "showTitle": false,
     "title": ""
    }
   },
   "outputs": [],
   "source": []
  }
 ],
 "metadata": {
  "application/vnd.databricks.v1+notebook": {
   "dashboards": [],
   "language": "python",
   "notebookMetadata": {
    "mostRecentlyExecutedCommandWithImplicitDF": {
     "commandId": 2026950823170538,
     "dataframes": [
      "_sqldf"
     ]
    },
    "pythonIndentUnit": 4
   },
   "notebookName": "Task 2 Machine Learning Implementation 16:08:46",
   "widgets": {}
  }
 },
 "nbformat": 4,
 "nbformat_minor": 0
}
